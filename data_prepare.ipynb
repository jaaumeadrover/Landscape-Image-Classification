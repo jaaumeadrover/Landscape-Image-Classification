{
 "cells": [
  {
   "cell_type": "markdown",
   "id": "fc9bf12e-d3ce-476f-aba1-2ab4abeff8ee",
   "metadata": {},
   "source": [
    "# Data preparation\n"
   ]
  },
  {
   "cell_type": "markdown",
   "id": "d811474b-b7ea-4725-9b87-c5d3f08e3088",
   "metadata": {},
   "source": [
    "First of all, to build a great classifying model, we should prepare our data so it fits correctly into it. We want to reescale our images to a correct size, in our case, to the minimum size of all images, which will find out in this script over here. But, at what size should we change them?"
   ]
  },
  {
   "cell_type": "markdown",
   "id": "1ef6d002-b829-43b1-98aa-f44c060b22bc",
   "metadata": {},
   "source": [
    "## 1. Data inspection"
   ]
  },
  {
   "cell_type": "markdown",
   "id": "82506306-368f-4e13-b4b7-40f85fd03504",
   "metadata": {},
   "source": [
    "In this part, we'll code a script that finds the minimum size among all images in both train and test folders. We'll be storing all sizes in dictionaries grouped by classes so at the end we can print them and choose the less sized one. "
   ]
  },
  {
   "cell_type": "code",
   "execution_count": 11,
   "id": "2abbe3a8-7a5a-4037-b1e4-59194e84769b",
   "metadata": {},
   "outputs": [],
   "source": [
    "import os,shutil\n",
    "import cv2\n",
    "import skimage.feature\n",
    "import numpy as np\n",
    "import matplotlib.pyplot as plt\n",
    "from Utils import calculate_min_size, resize_images_in_folder"
   ]
  },
  {
   "cell_type": "code",
   "execution_count": 12,
   "id": "f18cdab0-69f2-4346-8db5-811fb78aaacf",
   "metadata": {},
   "outputs": [
    {
     "name": "stdout",
     "output_type": "stream",
     "text": [
      "Class: 'bedroom', Minimum Width: 200, Minimum Height: 200\n",
      "Class: 'Coast', Minimum Width: 200, Minimum Height: 200\n",
      "Class: 'Forest', Minimum Width: 200, Minimum Height: 200\n",
      "Class: 'Highway', Minimum Width: 200, Minimum Height: 200\n",
      "Class: 'industrial', Minimum Width: 200, Minimum Height: 200\n",
      "Class: 'Insidecity', Minimum Width: 200, Minimum Height: 200\n",
      "Class: 'kitchen', Minimum Width: 200, Minimum Height: 200\n",
      "Class: 'livingroom', Minimum Width: 200, Minimum Height: 200\n",
      "Class: 'Mountain', Minimum Width: 200, Minimum Height: 200\n",
      "Class: 'Office', Minimum Width: 200, Minimum Height: 200\n",
      "Class: 'OpenCountry', Minimum Width: 200, Minimum Height: 200\n",
      "Class: 'store', Minimum Width: 200, Minimum Height: 200\n",
      "Class: 'Street', Minimum Width: 200, Minimum Height: 200\n",
      "Class: 'Suburb', Minimum Width: 200, Minimum Height: 200\n",
      "Class: 'TallBuilding', Minimum Width: 200, Minimum Height: 200\n",
      "Class: 'coast', Minimum Width: 200, Minimum Height: 200\n",
      "Class: 'forest', Minimum Width: 200, Minimum Height: 200\n",
      "Class: 'highway', Minimum Width: 200, Minimum Height: 200\n",
      "Class: 'insidecity', Minimum Width: 200, Minimum Height: 200\n",
      "Class: 'livingRoom', Minimum Width: 200, Minimum Height: 200\n",
      "Class: 'mountain', Minimum Width: 200, Minimum Height: 200\n",
      "Class: 'office', Minimum Width: 200, Minimum Height: 200\n",
      "Class: 'opencountry', Minimum Width: 200, Minimum Height: 200\n",
      "Class: 'street', Minimum Width: 200, Minimum Height: 200\n",
      "Class: 'suburb', Minimum Width: 200, Minimum Height: 200\n",
      "Class: 'tallbuilding', Minimum Width: 200, Minimum Height: 200\n"
     ]
    }
   ],
   "source": [
    "import os\n",
    "import cv2\n",
    "\n",
    "# Specify the paths to the main folders containing subfolders for train and test\n",
    "train_folder_path = 'data/train'\n",
    "test_folder_path = 'data/test'\n",
    "\n",
    "# Initialize dictionaries to store the minimum width and height for each class\n",
    "min_width_by_class = {}\n",
    "min_height_by_class = {}\n",
    "\n",
    "# Process the train folder\n",
    "for class_folder in os.listdir(train_folder_path):\n",
    "    class_folder_path = os.path.join(train_folder_path, class_folder)\n",
    "    min_width, min_height = calculate_min_size(class_folder_path)\n",
    "    \n",
    "    min_width_by_class[class_folder] = min_width\n",
    "    min_height_by_class[class_folder] = min_height\n",
    "\n",
    "# Process the test folder\n",
    "for class_folder in os.listdir(test_folder_path):\n",
    "    class_folder_path = os.path.join(test_folder_path, class_folder)\n",
    "    min_width, min_height = calculate_min_size(class_folder_path)\n",
    "    \n",
    "    # Check if the class already exists in the dictionary\n",
    "    if class_folder in min_width_by_class:\n",
    "        # Update with the minimum values\n",
    "        min_width_by_class[class_folder] = min(min_width_by_class[class_folder], min_width)\n",
    "        min_height_by_class[class_folder] = min(min_height_by_class[class_folder], min_height)\n",
    "    else:\n",
    "        # Create new entries for the class\n",
    "        min_width_by_class[class_folder] = min_width\n",
    "        min_height_by_class[class_folder] = min_height\n",
    "\n",
    "# Print the minimum width and height for each class from both folders\n",
    "for class_name in min_width_by_class:\n",
    "    min_width = min_width_by_class[class_name]\n",
    "    min_height = min_height_by_class[class_name]\n",
    "    print(f\"Class: '{class_name}', Minimum Width: {min_width}, Minimum Height: {min_height}\")\n"
   ]
  },
  {
   "cell_type": "markdown",
   "id": "28804594-63cc-473f-8761-62e7c27c9a0c",
   "metadata": {},
   "source": [
    "Conclusion: all images should be resized to 200x200 because bedroom has the minimum dimension size, its height."
   ]
  },
  {
   "cell_type": "markdown",
   "id": "4dc4c09a-599a-46a5-b49c-ee755042f5a6",
   "metadata": {},
   "source": [
    "## 2 Reescaling images "
   ]
  },
  {
   "cell_type": "markdown",
   "id": "e73ae6cc-e13d-4289-b8ed-56a11a05f62e",
   "metadata": {},
   "source": [
    "Now, having discovered what size we should refactor our images, we are going to start doing it. This is going to be accomplished with the function resize_images_in_folder, from Utils.py "
   ]
  },
  {
   "cell_type": "code",
   "execution_count": 13,
   "id": "6f7cb577-fd3f-4efe-ba9e-ac1d2a61239a",
   "metadata": {},
   "outputs": [],
   "source": [
    "# Specify the paths to the main folders containing subfolders for train and test\n",
    "folder_paths = ['data/train', 'data/test']\n",
    "\n",
    "# Specify the target size\n",
    "target_width = 200\n",
    "target_height = 200\n",
    "\n",
    "# Resize images in both train and test folders\n",
    "for folder_path in folder_paths:\n",
    "    for class_folder in os.listdir(folder_path):\n",
    "        class_folder_path = os.path.join(folder_path, class_folder)\n",
    "        resize_images_in_folder(class_folder_path,target_width,target_height)"
   ]
  },
  {
   "cell_type": "markdown",
   "id": "de34289a-9368-4e47-8a57-9db63d0fb5d3",
   "metadata": {},
   "source": [
    "Now, we have resized all images to 200x200. Great! Let's find out if there are any more issues related to our data."
   ]
  },
  {
   "cell_type": "markdown",
   "id": "564632d8-7e3b-430f-aa7e-353f741906ce",
   "metadata": {},
   "source": [
    "## 3. Data cleaning"
   ]
  },
  {
   "cell_type": "markdown",
   "id": "78ee4738-dce1-416a-a63c-bd25395fe17a",
   "metadata": {},
   "source": [
    "We have seen a strange thing in test folder. There it is a 'livingRoom (Case Conflict)' folder, where all images look identical to the 'livingRoom' original folder. We should probably check that. We'll do a double loop for each of conflict cases to check if there is in the other location. If this happens, we are going to compare if matrixes are equal by subtracting them and finding numbers that are non zero. That would mean that the specified pixel is different than the other one, making images different."
   ]
  },
  {
   "cell_type": "code",
   "execution_count": 14,
   "id": "400ae3f9-99d8-42e1-a0e7-21f1138c3d57",
   "metadata": {},
   "outputs": [
    {
     "ename": "FileNotFoundError",
     "evalue": "[WinError 3] The system cannot find the path specified: 'data/test/livingRoom (Case Conflict)'",
     "output_type": "error",
     "traceback": [
      "\u001b[1;31m---------------------------------------------------------------------------\u001b[0m",
      "\u001b[1;31mFileNotFoundError\u001b[0m                         Traceback (most recent call last)",
      "Cell \u001b[1;32mIn[14], line 5\u001b[0m\n\u001b[0;32m      2\u001b[0m test_living_room2\u001b[38;5;241m=\u001b[39m \u001b[38;5;124m'\u001b[39m\u001b[38;5;124mdata/test/livingRoom (Case Conflict)\u001b[39m\u001b[38;5;124m'\u001b[39m\n\u001b[0;32m      4\u001b[0m i\u001b[38;5;241m=\u001b[39m\u001b[38;5;241m0\u001b[39m\n\u001b[1;32m----> 5\u001b[0m \u001b[38;5;28;01mfor\u001b[39;00m filename \u001b[38;5;129;01min\u001b[39;00m \u001b[43mos\u001b[49m\u001b[38;5;241;43m.\u001b[39;49m\u001b[43mlistdir\u001b[49m\u001b[43m(\u001b[49m\u001b[43mtest_living_room2\u001b[49m\u001b[43m)\u001b[49m:\n\u001b[0;32m      6\u001b[0m     \u001b[38;5;66;03m#check if it is in the other folder\u001b[39;00m\n\u001b[0;32m      7\u001b[0m     \u001b[38;5;28;01mfor\u001b[39;00m filename2 \u001b[38;5;129;01min\u001b[39;00m os\u001b[38;5;241m.\u001b[39mlistdir(test_living_room):\n\u001b[0;32m      8\u001b[0m         \u001b[38;5;28;01mif\u001b[39;00m(filename\u001b[38;5;241m==\u001b[39mfilename2):\n",
      "\u001b[1;31mFileNotFoundError\u001b[0m: [WinError 3] The system cannot find the path specified: 'data/test/livingRoom (Case Conflict)'"
     ]
    }
   ],
   "source": [
    "test_living_room = 'data/test/livingRoom'\n",
    "test_living_room2= 'data/test/livingRoom (Case Conflict)'\n",
    "\n",
    "i=0\n",
    "for filename in os.listdir(test_living_room2):\n",
    "    #check if it is in the other folder\n",
    "    for filename2 in os.listdir(test_living_room):\n",
    "        if(filename==filename2):\n",
    "            print('Found:'+str(i))\n",
    "            image1=cv2.imread(test_living_room+str('/')+str(filename))\n",
    "            image2=cv2.imread(test_living_room2+str('/')+str(filename2))\n",
    "            if image1.shape == image2.shape:\n",
    "                # Compare pixel-wise equality\n",
    "                difference = cv2.subtract(image1, image2)\n",
    "                b, g, r = cv2.split(difference)\n",
    "\n",
    "                if cv2.countNonZero(b) == 0 and cv2.countNonZero(g) == 0 and cv2.countNonZero(r) == 0:\n",
    "                    print(\"The images are identical.\")\n",
    "                    i=i+1\n",
    "                else:\n",
    "                    print(\"The images are not identical.\")\n",
    "            else:\n",
    "                print(\"The images have different shapes.\")\n",
    "\n"
   ]
  },
  {
   "cell_type": "markdown",
   "id": "02776da8-c2ff-4eb6-815d-fe9970ae394d",
   "metadata": {},
   "source": [
    "As we can see, all output says that images are identical. As a fact, we don't want duplicated data, neither in train nor test. So, we will delete the whole folder. "
   ]
  },
  {
   "cell_type": "code",
   "execution_count": null,
   "id": "cc2bbba6-eeef-4a3b-8d95-5f9e1884a9e0",
   "metadata": {},
   "outputs": [],
   "source": [
    "shutil.rmtree(test_living_room2)"
   ]
  },
  {
   "cell_type": "markdown",
   "id": "2f3ad9cc-9907-4f60-8fc6-10401584c639",
   "metadata": {},
   "source": [
    "Finally, we can say that our data is clean and ready to pass it into a model."
   ]
  },
  {
   "cell_type": "markdown",
   "id": "1ec0c259-c90b-482c-b299-88cf3460ed0a",
   "metadata": {},
   "source": [
    "# 4. Feature Visualization"
   ]
  },
  {
   "cell_type": "markdown",
   "id": "5aa3b99a-4a8d-4420-a05d-f40d0e5ad913",
   "metadata": {},
   "source": [
    "In this stage, we'll extract some features and visualize them in order to find out or guess which ones should we pick. We'll work with just one photo."
   ]
  },
  {
   "cell_type": "code",
   "execution_count": null,
   "id": "71823e10-607c-4f0d-ba94-5ad62b7dd11f",
   "metadata": {},
   "outputs": [],
   "source": [
    "image = cv2.imread('data/train/bedroom/image_0001.jpg')\n"
   ]
  },
  {
   "cell_type": "code",
   "execution_count": null,
   "id": "8f6da3e2-0460-4858-a345-3897af53274d",
   "metadata": {},
   "outputs": [],
   "source": [
    "import cv2\n",
    "from skimage.feature import canny, corner_fast, corner_harris, hessian_matrix, hog, local_binary_pattern\n",
    "import matplotlib.pyplot as plt\n",
    "\n",
    "\n",
    "# Convert the image to grayscale if it's not already\n",
    "gray_image = cv2.cvtColor(image, cv2.COLOR_BGR2GRAY)\n",
    "\n",
    "# Apply Canny edge detection\n",
    "canny_edges = canny(gray_image)\n",
    "\n",
    "# Apply FAST corner detection\n",
    "fast_corners = corner_fast(gray_image)\n",
    "\n",
    "# Apply Harris corner detection\n",
    "harris_corners = corner_harris(gray_image)\n",
    "\n",
    "# Apply Hessian matrix for feature detection\n",
    "hessian_det = hessian_matrix(gray_image)\n",
    "\n",
    "# Apply HOG (Histogram of Oriented Gradients)\n",
    "hog_features, hog_image = hog(gray_image, visualize=True)\n",
    "\n",
    "# Apply LBP (Local Binary Pattern)\n",
    "radius = 3\n",
    "n_points = 8 * radius\n",
    "lbp_features = local_binary_pattern(gray_image, n_points, radius, method='uniform')\n",
    "\n",
    "# Create subplots to display the transformed images\n",
    "plt.figure(figsize=(18, 18))\n",
    "\n",
    "# Original Image\n",
    "plt.subplot(3, 4, 1)\n",
    "plt.imshow(cv2.cvtColor(image, cv2.COLOR_BGR2RGB))\n",
    "plt.title('Original Image')\n",
    "\n",
    "# Canny Edge Detection\n",
    "plt.subplot(3, 4, 2)\n",
    "plt.imshow(canny_edges, cmap='gray')\n",
    "plt.title('Canny Edge Detection')\n",
    "\n",
    "# FAST Corner Detection\n",
    "plt.subplot(3, 4, 3)\n",
    "plt.imshow(fast_corners, cmap='gray')\n",
    "plt.title('FAST Corner Detection')\n",
    "\n",
    "# Harris Corner Detection\n",
    "plt.subplot(3, 4, 4)\n",
    "plt.imshow(harris_corners, cmap='gray')\n",
    "plt.title('Harris Corner Detection')\n",
    "\n",
    "# Hessian Matrix\n",
    "plt.subplot(3, 4, 5)\n",
    "plt.imshow(hessian_det[0], cmap='gray')\n",
    "plt.title('Hessian Matrix')\n",
    "\n",
    "# HOG Features\n",
    "plt.subplot(3, 4, 6)\n",
    "plt.imshow(hog_image, cmap='gray')\n",
    "plt.title('HOG Features')\n",
    "\n",
    "# LBP Features\n",
    "plt.subplot(3, 4, 7)\n",
    "plt.imshow(lbp_features, cmap='gray')\n",
    "plt.title('LBP Features')\n",
    "\n",
    "# Display the subplots\n",
    "plt.tight_layout()\n",
    "plt.show()\n"
   ]
  }
 ],
 "metadata": {
  "kernelspec": {
   "display_name": "Python 3 (ipykernel)",
   "language": "python",
   "name": "python3"
  },
  "language_info": {
   "codemirror_mode": {
    "name": "ipython",
    "version": 3
   },
   "file_extension": ".py",
   "mimetype": "text/x-python",
   "name": "python",
   "nbconvert_exporter": "python",
   "pygments_lexer": "ipython3",
   "version": "3.11.5"
  }
 },
 "nbformat": 4,
 "nbformat_minor": 5
}
