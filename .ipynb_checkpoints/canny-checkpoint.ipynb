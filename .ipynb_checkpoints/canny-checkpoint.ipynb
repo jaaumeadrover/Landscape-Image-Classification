{
 "cells": [
  {
   "cell_type": "markdown",
   "id": "af38ead6-d68e-468e-b76f-23a766974385",
   "metadata": {
    "id": "af38ead6-d68e-468e-b76f-23a766974385"
   },
   "source": [
    "# Hog feature testing"
   ]
  },
  {
   "cell_type": "markdown",
   "id": "yr8vRoIkpEJq",
   "metadata": {
    "id": "yr8vRoIkpEJq"
   },
   "source": [
    "En aquest fitxer, ens encarregarem de testejar l'evaluació del model amb la característica individual HOG(Histogram of Oriented Graphics)."
   ]
  },
  {
   "cell_type": "markdown",
   "id": "O1_pzmqapElm",
   "metadata": {
    "id": "O1_pzmqapElm"
   },
   "source": [
    "## 1. Configuració"
   ]
  },
  {
   "cell_type": "markdown",
   "id": "qKqxPW6mm4Su",
   "metadata": {
    "id": "qKqxPW6mm4Su"
   },
   "source": [
    "Primer ens encarregarem d'importar totes les llibraries necessàries i definir un FeatureTransformer amb els paràmetres corresponents a la nostra feature."
   ]
  },
  {
   "cell_type": "code",
   "execution_count": 1,
   "id": "b66bbbb0-0fc6-4437-bb99-f88c9755eb78",
   "metadata": {
    "id": "b66bbbb0-0fc6-4437-bb99-f88c9755eb78"
   },
   "outputs": [],
   "source": [
    "import cv2\n",
    "import os\n",
    "import skimage.feature\n",
    "from FeatureTransformer import FeatureTransformer\n",
    "from Utils import process_images_in_folder\n",
    "from sklearn.metrics import accuracy_score\n",
    "from sklearn.model_selection import GridSearchCV\n",
    "from sklearn.svm import SVC\n",
    "import numpy as np"
   ]
  },
  {
   "cell_type": "code",
   "execution_count": 2,
   "id": "9bcda8b8-065f-4fa5-a491-40f533fddee1",
   "metadata": {
    "id": "9bcda8b8-065f-4fa5-a491-40f533fddee1"
   },
   "outputs": [],
   "source": [
    "transformer = FeatureTransformer()\n",
    "canny = {\n",
    "    'sigma': 1.0,           # Desviación estándar del filtro Gaussiano\n",
    "    'low_threshold': 0.1,   # Umbral inferior para la detección de bordes\n",
    "    'high_threshold': 0.2,  # Umbral superior para la detección de bordes\n",
    "    'mask': None,           # Máscara opcional que indica las regiones en las que se debe aplicar el detector de bordes\n",
    "    'use_quantiles': False,  # Si es True, los umbrales se especifican como cuantiles de la imagen, si es False, se toman como valores absolutos\n",
    "}\n",
    "customFeature=[skimage.feature.hog,hog_params]"
   ]
  },
  {
   "cell_type": "markdown",
   "id": "c762bb8d-9b49-4f77-95c2-d2afa497a000",
   "metadata": {
    "id": "c762bb8d-9b49-4f77-95c2-d2afa497a000"
   },
   "source": [
    "## 2. Feature extraction"
   ]
  },
  {
   "cell_type": "markdown",
   "id": "KBd9Y7zErZS4",
   "metadata": {
    "id": "KBd9Y7zErZS4"
   },
   "source": [
    "En aquesta part, definirem les variables necessàries per a l'entrenament i l'avaluació del model. També començarem a extreure característiques (features) de les imatges."
   ]
  },
  {
   "cell_type": "code",
   "execution_count": 3,
   "id": "71372509-06e4-4411-8285-6452e0b44041",
   "metadata": {
    "id": "71372509-06e4-4411-8285-6452e0b44041"
   },
   "outputs": [],
   "source": [
    "x_train=[]\n",
    "y_train=[]\n",
    "x_test=[]\n",
    "y_test=[]"
   ]
  },
  {
   "cell_type": "code",
   "execution_count": 4,
   "id": "e0737bb6-0b99-4682-acb9-10218b6fbcb0",
   "metadata": {
    "colab": {
     "base_uri": "https://localhost:8080/"
    },
    "id": "e0737bb6-0b99-4682-acb9-10218b6fbcb0",
    "outputId": "921783a6-4fa4-4a00-a5b0-41f6dea6f32a"
   },
   "outputs": [
    {
     "name": "stdout",
     "output_type": "stream",
     "text": [
      "*********************TRAINING*********************\n",
      "Extraguent features de la classe: bedroom\n",
      "Extraguent features de la classe: Coast\n",
      "Extraguent features de la classe: Forest\n",
      "Extraguent features de la classe: Highway\n",
      "Extraguent features de la classe: industrial\n",
      "Extraguent features de la classe: Insidecity\n",
      "Extraguent features de la classe: kitchen\n",
      "Extraguent features de la classe: livingroom\n",
      "Extraguent features de la classe: Mountain\n",
      "Extraguent features de la classe: Office\n",
      "Extraguent features de la classe: OpenCountry\n",
      "Extraguent features de la classe: store\n",
      "Extraguent features de la classe: Street\n",
      "Extraguent features de la classe: Suburb\n",
      "Extraguent features de la classe: TallBuilding\n",
      "*********************TESTING*********************\n",
      "Extraguent features de la classe: bedroom\n",
      "Extraguent features de la classe: coast\n",
      "Extraguent features de la classe: forest\n",
      "Extraguent features de la classe: highway\n",
      "Extraguent features de la classe: industrial\n",
      "Extraguent features de la classe: insidecity\n",
      "Extraguent features de la classe: kitchen\n",
      "Extraguent features de la classe: livingRoom\n",
      "Extraguent features de la classe: mountain\n",
      "Extraguent features de la classe: office\n",
      "Extraguent features de la classe: opencountry\n",
      "Extraguent features de la classe: store\n",
      "Extraguent features de la classe: street\n",
      "Extraguent features de la classe: suburb\n",
      "Extraguent features de la classe: tallbuilding\n"
     ]
    }
   ],
   "source": [
    "train_folder_path = 'data/train'\n",
    "test_folder_path = 'data/test'\n",
    "\n",
    "# Extract features from training data\n",
    "print('*********************TRAINING*********************')\n",
    "for class_folder in os.listdir(train_folder_path):\n",
    "    print(\"Extraguent features de la classe: \" + str(class_folder))\n",
    "    class_folder_path = os.path.join(train_folder_path, class_folder)\n",
    "    process_images_in_folder(transformer,customFeature,class_folder_path,class_folder,x_train,y_train)\n",
    "\n",
    "# Extract features from testing data\n",
    "print('*********************TESTING*********************')\n",
    "for class_folder in os.listdir(test_folder_path):\n",
    "    print(\"Extraguent features de la classe: \" + str(class_folder))\n",
    "    class_folder_path = os.path.join(test_folder_path, class_folder)\n",
    "    process_images_in_folder(transformer,customFeature,class_folder_path,class_folder,x_test,y_test)"
   ]
  },
  {
   "cell_type": "markdown",
   "id": "26215848-b657-48e1-9ee3-37bdf9d62654",
   "metadata": {},
   "source": [
    "Finalment, ens encarregam de que estiguin en el format correcte per a passar al model."
   ]
  },
  {
   "cell_type": "code",
   "execution_count": 5,
   "id": "289e8929-dd92-48ed-ae13-80f50f2b7189",
   "metadata": {},
   "outputs": [],
   "source": [
    "x_train = np.array(x_train).reshape(len(x_train), -1)\n",
    "x_test = np.array(x_test).reshape(len(x_test), -1)"
   ]
  },
  {
   "cell_type": "markdown",
   "id": "kyWmCUu1tQUD",
   "metadata": {
    "id": "kyWmCUu1tQUD"
   },
   "source": [
    "## 3. Fine Tuning"
   ]
  },
  {
   "cell_type": "markdown",
   "id": "iXRr5bB-tqYz",
   "metadata": {
    "id": "iXRr5bB-tqYz"
   },
   "source": [
    "En aquest apartat, ens encarregarem de trobar les millors configuracions possibles per al nostre model amb el mètode GridSearchCV de Sklearn. Escollirem una llista de paràmetres amb diferents valors i imprimirem per pantalla el millor estimador."
   ]
  },
  {
   "cell_type": "code",
   "execution_count": null,
   "id": "k3olervERbNG",
   "metadata": {
    "id": "k3olervERbNG"
   },
   "outputs": [
    {
     "name": "stdout",
     "output_type": "stream",
     "text": [
      "Fitting 5 folds for each of 12 candidates, totalling 60 fits\n"
     ]
    }
   ],
   "source": [
    "param_grid = {'C': [0.1,1, 10, 100],'kernel': ['rbf', 'poly', 'sigmoid']}\n",
    "grid = GridSearchCV(SVC(),param_grid,refit=True,verbose=2)\n",
    "grid.fit(x_train,y_train)"
   ]
  },
  {
   "cell_type": "code",
   "execution_count": 36,
   "id": "JZYuU_8RQw8T",
   "metadata": {
    "colab": {
     "base_uri": "https://localhost:8080/"
    },
    "id": "JZYuU_8RQw8T",
    "outputId": "ad1f21a7-0b31-4c8c-b6aa-2faa962f05ec"
   },
   "outputs": [
    {
     "name": "stdout",
     "output_type": "stream",
     "text": [
      "SVC(C=1, kernel='poly')\n"
     ]
    }
   ],
   "source": [
    "print(grid.best_estimator_)"
   ]
  },
  {
   "cell_type": "markdown",
   "id": "4YyqxetJuryt",
   "metadata": {
    "id": "4YyqxetJuryt"
   },
   "source": [
    "## 4. Training model"
   ]
  },
  {
   "cell_type": "markdown",
   "id": "mTqrWlwIuu5z",
   "metadata": {
    "id": "mTqrWlwIuu5z"
   },
   "source": [
    "Ara, tenint una configuració optimitzada per al model, hauríem de poder entrenar-lo i obtenir un bon resultat."
   ]
  },
  {
   "cell_type": "code",
   "execution_count": null,
   "id": "50c4d6e0-3e63-4f7c-89d4-dc50ec467300",
   "metadata": {
    "colab": {
     "base_uri": "https://localhost:8080/",
     "height": 91
    },
    "id": "50c4d6e0-3e63-4f7c-89d4-dc50ec467300",
    "outputId": "8d5b06e7-240c-4a09-8085-c93b6e355ffb"
   },
   "outputs": [],
   "source": [
    "model = SVC(C=1.0, kernel='poly', random_state=33)\n",
    "model.fit(x_train,y_train)"
   ]
  },
  {
   "cell_type": "markdown",
   "id": "vMpGDQPAvA8C",
   "metadata": {
    "id": "vMpGDQPAvA8C"
   },
   "source": [
    "## 5. Evaluating model"
   ]
  },
  {
   "cell_type": "markdown",
   "id": "0e1DitopvBk6",
   "metadata": {
    "id": "0e1DitopvBk6"
   },
   "source": [
    "Finalment, predirem les nostres dades definides per provar-les i les compararem amb els valors esperats reals. El nostre objectiu és obtenir un % de precisió d'encerts del nostre model."
   ]
  },
  {
   "cell_type": "code",
   "execution_count": 12,
   "id": "e48160ec-e65b-44ce-b4e4-b3180acaf4de",
   "metadata": {
    "id": "e48160ec-e65b-44ce-b4e4-b3180acaf4de"
   },
   "outputs": [],
   "source": [
    "y_meu = model.predict(x_test)"
   ]
  },
  {
   "cell_type": "code",
   "execution_count": 10,
   "id": "PpdpBkmWOyrV",
   "metadata": {
    "colab": {
     "base_uri": "https://localhost:8080/"
    },
    "id": "PpdpBkmWOyrV",
    "outputId": "1b1c128c-2aec-4844-9d86-89013739eedb"
   },
   "outputs": [
    {
     "ename": "NameError",
     "evalue": "name 'y_meu' is not defined",
     "output_type": "error",
     "traceback": [
      "\u001b[1;31m---------------------------------------------------------------------------\u001b[0m",
      "\u001b[1;31mNameError\u001b[0m                                 Traceback (most recent call last)",
      "Cell \u001b[1;32mIn[10], line 1\u001b[0m\n\u001b[1;32m----> 1\u001b[0m precision_meu \u001b[38;5;241m=\u001b[39m accuracy_score(y_test, \u001b[43my_meu\u001b[49m)\n\u001b[0;32m      2\u001b[0m \u001b[38;5;28mprint\u001b[39m(\u001b[38;5;124mf\u001b[39m\u001b[38;5;124m\"\u001b[39m\u001b[38;5;124m   Accuracy   : \u001b[39m\u001b[38;5;132;01m{\u001b[39;00mprecision_meu\u001b[38;5;132;01m}\u001b[39;00m\u001b[38;5;124m\"\u001b[39m)\n",
      "\u001b[1;31mNameError\u001b[0m: name 'y_meu' is not defined"
     ]
    }
   ],
   "source": [
    "precision_meu = accuracy_score(y_test, y_meu)\n",
    "print(f\"   Accuracy   : {precision_meu}\")"
   ]
  }
 ],
 "metadata": {
  "accelerator": "GPU",
  "colab": {
   "gpuType": "T4",
   "provenance": []
  },
  "kernelspec": {
   "display_name": "Python 3 (ipykernel)",
   "language": "python",
   "name": "python3"
  },
  "language_info": {
   "codemirror_mode": {
    "name": "ipython",
    "version": 3
   },
   "file_extension": ".py",
   "mimetype": "text/x-python",
   "name": "python",
   "nbconvert_exporter": "python",
   "pygments_lexer": "ipython3",
   "version": "3.10.13"
  }
 },
 "nbformat": 4,
 "nbformat_minor": 5
}
