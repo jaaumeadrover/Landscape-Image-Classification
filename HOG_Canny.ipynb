{
 "cells": [
  {
   "cell_type": "markdown",
   "id": "af38ead6-d68e-468e-b76f-23a766974385",
   "metadata": {
    "id": "af38ead6-d68e-468e-b76f-23a766974385"
   },
   "source": [
    "# Hog combined with Canny feature testing"
   ]
  },
  {
   "cell_type": "markdown",
   "id": "yr8vRoIkpEJq",
   "metadata": {
    "id": "yr8vRoIkpEJq"
   },
   "source": [
    "En aquest fitxer, ens encarregarem de testejar l'evaluació del model amb la característica individual HOG(Histogram of Oriented Graphics) and Canny."
   ]
  },
  {
   "cell_type": "markdown",
   "id": "O1_pzmqapElm",
   "metadata": {
    "id": "O1_pzmqapElm"
   },
   "source": [
    "## 1. Configuració"
   ]
  },
  {
   "cell_type": "markdown",
   "id": "qKqxPW6mm4Su",
   "metadata": {
    "id": "qKqxPW6mm4Su"
   },
   "source": [
    "Primer ens encarregarem d'importar totes les llibraries necessàries i definir un FeatureTransformer amb els paràmetres corresponents a la nostra feature."
   ]
  },
  {
   "cell_type": "code",
   "execution_count": 1,
   "id": "b66bbbb0-0fc6-4437-bb99-f88c9755eb78",
   "metadata": {
    "id": "b66bbbb0-0fc6-4437-bb99-f88c9755eb78"
   },
   "outputs": [],
   "source": [
    "import cv2\n",
    "import os\n",
    "import skimage.feature\n",
    "from FeatureTransformer import FeatureTransformer\n",
    "from Utils import process_images_in_folder, process_images_in_folder2\n",
    "from sklearn.metrics import accuracy_score\n",
    "from sklearn.model_selection import GridSearchCV\n",
    "from sklearn.svm import SVC\n",
    "import numpy as np"
   ]
  },
  {
   "cell_type": "code",
   "execution_count": 2,
   "id": "9bcda8b8-065f-4fa5-a491-40f533fddee1",
   "metadata": {
    "id": "9bcda8b8-065f-4fa5-a491-40f533fddee1"
   },
   "outputs": [],
   "source": [
    "transformer = FeatureTransformer()\n",
    "hog_params = {\n",
    "    'orientations': 9,\n",
    "    'pixels_per_cell': (8, 8),\n",
    "    'cells_per_block': (2, 2),\n",
    "    'block_norm': 'L2-Hys',\n",
    "    'visualize': False,\n",
    "    'transform_sqrt': True,\n",
    "    'feature_vector': True\n",
    "}\n",
    "canny_params = {\n",
    "    'sigma': 1.0,           \n",
    "    'low_threshold': 0.1,   \n",
    "    'high_threshold': 0.2,  \n",
    "    'mask': None,           \n",
    "    'use_quantiles': False, \n",
    "}\n",
    "customFeature=[skimage.feature.hog,hog_params, skimage.feature.canny, canny_params]"
   ]
  },
  {
   "cell_type": "markdown",
   "id": "c762bb8d-9b49-4f77-95c2-d2afa497a000",
   "metadata": {
    "id": "c762bb8d-9b49-4f77-95c2-d2afa497a000"
   },
   "source": [
    "## 2. Feature extraction"
   ]
  },
  {
   "cell_type": "markdown",
   "id": "KBd9Y7zErZS4",
   "metadata": {
    "id": "KBd9Y7zErZS4"
   },
   "source": [
    "En aquesta part, definirem les variables necessàries per a l'entrenament i l'avaluació del model. També començarem a extreure característiques (features) de les imatges."
   ]
  },
  {
   "cell_type": "code",
   "execution_count": 3,
   "id": "71372509-06e4-4411-8285-6452e0b44041",
   "metadata": {
    "id": "71372509-06e4-4411-8285-6452e0b44041"
   },
   "outputs": [],
   "source": [
    "x_train=[]\n",
    "y_train=[]\n",
    "x_test=[]\n",
    "y_test=[]"
   ]
  },
  {
   "cell_type": "code",
   "execution_count": 4,
   "id": "e0737bb6-0b99-4682-acb9-10218b6fbcb0",
   "metadata": {
    "colab": {
     "base_uri": "https://localhost:8080/"
    },
    "id": "e0737bb6-0b99-4682-acb9-10218b6fbcb0",
    "outputId": "921783a6-4fa4-4a00-a5b0-41f6dea6f32a"
   },
   "outputs": [
    {
     "name": "stdout",
     "output_type": "stream",
     "text": [
      "*********************TRAINING*********************\n",
      "Extraguent features de la classe: Forest\n",
      "Extraguent features de la classe: bedroom\n",
      "Extraguent features de la classe: Office\n",
      "Extraguent features de la classe: Highway\n",
      "Extraguent features de la classe: Coast\n",
      "Extraguent features de la classe: Insidecity\n",
      "Extraguent features de la classe: TallBuilding\n",
      "Extraguent features de la classe: industrial\n",
      "Extraguent features de la classe: Street\n",
      "Extraguent features de la classe: livingroom\n",
      "Extraguent features de la classe: Suburb\n",
      "Extraguent features de la classe: Mountain\n",
      "Extraguent features de la classe: kitchen\n",
      "Extraguent features de la classe: OpenCountry\n",
      "Extraguent features de la classe: store\n",
      "*********************TESTING*********************\n",
      "Extraguent features de la classe: forest\n",
      "Extraguent features de la classe: bedroom\n",
      "Extraguent features de la classe: office\n",
      "Extraguent features de la classe: highway\n",
      "Extraguent features de la classe: coast\n",
      "Extraguent features de la classe: insidecity\n",
      "Extraguent features de la classe: tallbuilding\n",
      "Extraguent features de la classe: industrial\n",
      "Extraguent features de la classe: street\n",
      "Extraguent features de la classe: livingRoom\n",
      "Extraguent features de la classe: suburb\n",
      "Extraguent features de la classe: mountain\n",
      "Extraguent features de la classe: kitchen\n",
      "Extraguent features de la classe: opencountry\n",
      "Extraguent features de la classe: store\n"
     ]
    }
   ],
   "source": [
    "train_folder_path = 'data/train'\n",
    "test_folder_path = 'data/test'\n",
    "\n",
    "# Extract features from training data\n",
    "print('*********************TRAINING*********************')\n",
    "for class_folder in os.listdir(train_folder_path):\n",
    "    print(\"Extraguent features de la classe: \" + str(class_folder))\n",
    "    class_folder_path = os.path.join(train_folder_path, class_folder)\n",
    "    process_images_in_folder2(transformer,customFeature,class_folder_path,class_folder,x_train,y_train)\n",
    "\n",
    "# Extract features from testing data\n",
    "print('*********************TESTING*********************')\n",
    "for class_folder in os.listdir(test_folder_path):\n",
    "    print(\"Extraguent features de la classe: \" + str(class_folder))\n",
    "    class_folder_path = os.path.join(test_folder_path, class_folder)\n",
    "    process_images_in_folder2(transformer,customFeature,class_folder_path,class_folder,x_test,y_test)"
   ]
  },
  {
   "cell_type": "markdown",
   "id": "26215848-b657-48e1-9ee3-37bdf9d62654",
   "metadata": {},
   "source": [
    "Finalment, ens encarregam de que estiguin en el format correcte per a passar al model."
   ]
  },
  {
   "cell_type": "code",
   "execution_count": 13,
   "id": "289e8929-dd92-48ed-ae13-80f50f2b7189",
   "metadata": {},
   "outputs": [
    {
     "ename": "ValueError",
     "evalue": "setting an array element with a sequence. The requested array has an inhomogeneous shape after 2 dimensions. The detected shape was (1500, 2) + inhomogeneous part.",
     "output_type": "error",
     "traceback": [
      "\u001b[0;31m---------------------------------------------------------------------------\u001b[0m",
      "\u001b[0;31mValueError\u001b[0m                                Traceback (most recent call last)",
      "Cell \u001b[0;32mIn[13], line 1\u001b[0m\n\u001b[0;32m----> 1\u001b[0m x_train \u001b[38;5;241m=\u001b[39m \u001b[43mnp\u001b[49m\u001b[38;5;241;43m.\u001b[39;49m\u001b[43marray\u001b[49m\u001b[43m(\u001b[49m\u001b[43mx_train\u001b[49m\u001b[43m)\u001b[49m\u001b[38;5;241m.\u001b[39mreshape(\u001b[38;5;28mlen\u001b[39m(x_train), \u001b[38;5;241m-\u001b[39m\u001b[38;5;241m1\u001b[39m)\n\u001b[1;32m      2\u001b[0m x_test \u001b[38;5;241m=\u001b[39m np\u001b[38;5;241m.\u001b[39marray(x_test)\u001b[38;5;241m.\u001b[39mreshape(\u001b[38;5;28mlen\u001b[39m(x_test), \u001b[38;5;241m-\u001b[39m\u001b[38;5;241m1\u001b[39m)\n",
      "\u001b[0;31mValueError\u001b[0m: setting an array element with a sequence. The requested array has an inhomogeneous shape after 2 dimensions. The detected shape was (1500, 2) + inhomogeneous part."
     ]
    }
   ],
   "source": [
    "x_train = np.array(x_train).reshape(len(x_train), -1)\n",
    "x_test = np.array(x_test).reshape(len(x_test), -1)"
   ]
  },
  {
   "cell_type": "markdown",
   "id": "kyWmCUu1tQUD",
   "metadata": {
    "id": "kyWmCUu1tQUD"
   },
   "source": [
    "## 3. Fine Tuning"
   ]
  },
  {
   "cell_type": "markdown",
   "id": "iXRr5bB-tqYz",
   "metadata": {
    "id": "iXRr5bB-tqYz"
   },
   "source": [
    "En aquest apartat, ens encarregarem de trobar les millors configuracions possibles per al nostre model amb el mètode GridSearchCV de Sklearn. Escollirem una llista de paràmetres amb diferents valors i imprimirem per pantalla el millor estimador."
   ]
  },
  {
   "cell_type": "code",
   "execution_count": 8,
   "id": "k3olervERbNG",
   "metadata": {
    "id": "k3olervERbNG"
   },
   "outputs": [
    {
     "name": "stdout",
     "output_type": "stream",
     "text": [
      "Fitting 5 folds for each of 12 candidates, totalling 60 fits\n",
      "[CV] END ..................................C=0.1, kernel=rbf; total time=  32.5s\n",
      "[CV] END ..................................C=0.1, kernel=rbf; total time=  32.4s\n",
      "[CV] END ..................................C=0.1, kernel=rbf; total time=  32.5s\n",
      "[CV] END ..................................C=0.1, kernel=rbf; total time=  32.5s\n",
      "[CV] END ..................................C=0.1, kernel=rbf; total time=  32.1s\n",
      "[CV] END .................................C=0.1, kernel=poly; total time=  26.8s\n",
      "[CV] END .................................C=0.1, kernel=poly; total time=  27.2s\n",
      "[CV] END .................................C=0.1, kernel=poly; total time=  27.3s\n",
      "[CV] END .................................C=0.1, kernel=poly; total time=  27.7s\n",
      "[CV] END .................................C=0.1, kernel=poly; total time=  27.8s\n",
      "[CV] END ..............................C=0.1, kernel=sigmoid; total time=  31.7s\n",
      "[CV] END ..............................C=0.1, kernel=sigmoid; total time=  31.8s\n",
      "[CV] END ..............................C=0.1, kernel=sigmoid; total time=  31.8s\n",
      "[CV] END ..............................C=0.1, kernel=sigmoid; total time=  31.9s\n",
      "[CV] END ..............................C=0.1, kernel=sigmoid; total time=  31.7s\n",
      "[CV] END ....................................C=1, kernel=rbf; total time=  32.2s\n",
      "[CV] END ....................................C=1, kernel=rbf; total time=  32.2s\n",
      "[CV] END ....................................C=1, kernel=rbf; total time=  32.6s\n",
      "[CV] END ....................................C=1, kernel=rbf; total time=  32.2s\n",
      "[CV] END ....................................C=1, kernel=rbf; total time=  32.2s\n",
      "[CV] END ...................................C=1, kernel=poly; total time=  28.4s\n",
      "[CV] END ...................................C=1, kernel=poly; total time=  28.5s\n",
      "[CV] END ...................................C=1, kernel=poly; total time=  28.4s\n",
      "[CV] END ...................................C=1, kernel=poly; total time=  28.3s\n",
      "[CV] END ...................................C=1, kernel=poly; total time=  28.0s\n",
      "[CV] END ................................C=1, kernel=sigmoid; total time=  29.0s\n",
      "[CV] END ................................C=1, kernel=sigmoid; total time=  29.3s\n",
      "[CV] END ................................C=1, kernel=sigmoid; total time=  29.2s\n",
      "[CV] END ................................C=1, kernel=sigmoid; total time=  29.1s\n",
      "[CV] END ................................C=1, kernel=sigmoid; total time=  29.0s\n",
      "[CV] END ...................................C=10, kernel=rbf; total time=  32.8s\n",
      "[CV] END ...................................C=10, kernel=rbf; total time=  33.0s\n",
      "[CV] END ...................................C=10, kernel=rbf; total time=  32.6s\n",
      "[CV] END ...................................C=10, kernel=rbf; total time=  32.6s\n",
      "[CV] END ...................................C=10, kernel=rbf; total time=  32.8s\n",
      "[CV] END ..................................C=10, kernel=poly; total time=  29.1s\n",
      "[CV] END ..................................C=10, kernel=poly; total time=  28.9s\n",
      "[CV] END ..................................C=10, kernel=poly; total time=  29.1s\n",
      "[CV] END ..................................C=10, kernel=poly; total time=  28.6s\n",
      "[CV] END ..................................C=10, kernel=poly; total time=  28.5s\n",
      "[CV] END ...............................C=10, kernel=sigmoid; total time=  20.2s\n",
      "[CV] END ...............................C=10, kernel=sigmoid; total time=  20.4s\n",
      "[CV] END ...............................C=10, kernel=sigmoid; total time=  20.3s\n",
      "[CV] END ...............................C=10, kernel=sigmoid; total time=  20.3s\n",
      "[CV] END ...............................C=10, kernel=sigmoid; total time=  20.8s\n",
      "[CV] END ..................................C=100, kernel=rbf; total time=  34.2s\n",
      "[CV] END ..................................C=100, kernel=rbf; total time=  33.5s\n",
      "[CV] END ..................................C=100, kernel=rbf; total time=  33.2s\n",
      "[CV] END ..................................C=100, kernel=rbf; total time=  33.2s\n",
      "[CV] END ..................................C=100, kernel=rbf; total time=  33.3s\n",
      "[CV] END .................................C=100, kernel=poly; total time=  28.7s\n",
      "[CV] END .................................C=100, kernel=poly; total time=  28.5s\n",
      "[CV] END .................................C=100, kernel=poly; total time=  28.5s\n",
      "[CV] END .................................C=100, kernel=poly; total time=  28.6s\n",
      "[CV] END .................................C=100, kernel=poly; total time=  29.5s\n",
      "[CV] END ..............................C=100, kernel=sigmoid; total time=  16.2s\n",
      "[CV] END ..............................C=100, kernel=sigmoid; total time=  16.3s\n",
      "[CV] END ..............................C=100, kernel=sigmoid; total time=  16.1s\n",
      "[CV] END ..............................C=100, kernel=sigmoid; total time=  16.5s\n",
      "[CV] END ..............................C=100, kernel=sigmoid; total time=  17.1s\n"
     ]
    },
    {
     "data": {
      "text/html": [
       "<style>#sk-container-id-1 {color: black;}#sk-container-id-1 pre{padding: 0;}#sk-container-id-1 div.sk-toggleable {background-color: white;}#sk-container-id-1 label.sk-toggleable__label {cursor: pointer;display: block;width: 100%;margin-bottom: 0;padding: 0.3em;box-sizing: border-box;text-align: center;}#sk-container-id-1 label.sk-toggleable__label-arrow:before {content: \"▸\";float: left;margin-right: 0.25em;color: #696969;}#sk-container-id-1 label.sk-toggleable__label-arrow:hover:before {color: black;}#sk-container-id-1 div.sk-estimator:hover label.sk-toggleable__label-arrow:before {color: black;}#sk-container-id-1 div.sk-toggleable__content {max-height: 0;max-width: 0;overflow: hidden;text-align: left;background-color: #f0f8ff;}#sk-container-id-1 div.sk-toggleable__content pre {margin: 0.2em;color: black;border-radius: 0.25em;background-color: #f0f8ff;}#sk-container-id-1 input.sk-toggleable__control:checked~div.sk-toggleable__content {max-height: 200px;max-width: 100%;overflow: auto;}#sk-container-id-1 input.sk-toggleable__control:checked~label.sk-toggleable__label-arrow:before {content: \"▾\";}#sk-container-id-1 div.sk-estimator input.sk-toggleable__control:checked~label.sk-toggleable__label {background-color: #d4ebff;}#sk-container-id-1 div.sk-label input.sk-toggleable__control:checked~label.sk-toggleable__label {background-color: #d4ebff;}#sk-container-id-1 input.sk-hidden--visually {border: 0;clip: rect(1px 1px 1px 1px);clip: rect(1px, 1px, 1px, 1px);height: 1px;margin: -1px;overflow: hidden;padding: 0;position: absolute;width: 1px;}#sk-container-id-1 div.sk-estimator {font-family: monospace;background-color: #f0f8ff;border: 1px dotted black;border-radius: 0.25em;box-sizing: border-box;margin-bottom: 0.5em;}#sk-container-id-1 div.sk-estimator:hover {background-color: #d4ebff;}#sk-container-id-1 div.sk-parallel-item::after {content: \"\";width: 100%;border-bottom: 1px solid gray;flex-grow: 1;}#sk-container-id-1 div.sk-label:hover label.sk-toggleable__label {background-color: #d4ebff;}#sk-container-id-1 div.sk-serial::before {content: \"\";position: absolute;border-left: 1px solid gray;box-sizing: border-box;top: 0;bottom: 0;left: 50%;z-index: 0;}#sk-container-id-1 div.sk-serial {display: flex;flex-direction: column;align-items: center;background-color: white;padding-right: 0.2em;padding-left: 0.2em;position: relative;}#sk-container-id-1 div.sk-item {position: relative;z-index: 1;}#sk-container-id-1 div.sk-parallel {display: flex;align-items: stretch;justify-content: center;background-color: white;position: relative;}#sk-container-id-1 div.sk-item::before, #sk-container-id-1 div.sk-parallel-item::before {content: \"\";position: absolute;border-left: 1px solid gray;box-sizing: border-box;top: 0;bottom: 0;left: 50%;z-index: -1;}#sk-container-id-1 div.sk-parallel-item {display: flex;flex-direction: column;z-index: 1;position: relative;background-color: white;}#sk-container-id-1 div.sk-parallel-item:first-child::after {align-self: flex-end;width: 50%;}#sk-container-id-1 div.sk-parallel-item:last-child::after {align-self: flex-start;width: 50%;}#sk-container-id-1 div.sk-parallel-item:only-child::after {width: 0;}#sk-container-id-1 div.sk-dashed-wrapped {border: 1px dashed gray;margin: 0 0.4em 0.5em 0.4em;box-sizing: border-box;padding-bottom: 0.4em;background-color: white;}#sk-container-id-1 div.sk-label label {font-family: monospace;font-weight: bold;display: inline-block;line-height: 1.2em;}#sk-container-id-1 div.sk-label-container {text-align: center;}#sk-container-id-1 div.sk-container {/* jupyter's `normalize.less` sets `[hidden] { display: none; }` but bootstrap.min.css set `[hidden] { display: none !important; }` so we also need the `!important` here to be able to override the default hidden behavior on the sphinx rendered scikit-learn.org. See: https://github.com/scikit-learn/scikit-learn/issues/21755 */display: inline-block !important;position: relative;}#sk-container-id-1 div.sk-text-repr-fallback {display: none;}</style><div id=\"sk-container-id-1\" class=\"sk-top-container\"><div class=\"sk-text-repr-fallback\"><pre>GridSearchCV(estimator=SVC(),\n",
       "             param_grid={&#x27;C&#x27;: [0.1, 1, 10, 100],\n",
       "                         &#x27;kernel&#x27;: [&#x27;rbf&#x27;, &#x27;poly&#x27;, &#x27;sigmoid&#x27;]},\n",
       "             verbose=2)</pre><b>In a Jupyter environment, please rerun this cell to show the HTML representation or trust the notebook. <br />On GitHub, the HTML representation is unable to render, please try loading this page with nbviewer.org.</b></div><div class=\"sk-container\" hidden><div class=\"sk-item sk-dashed-wrapped\"><div class=\"sk-label-container\"><div class=\"sk-label sk-toggleable\"><input class=\"sk-toggleable__control sk-hidden--visually\" id=\"sk-estimator-id-1\" type=\"checkbox\" ><label for=\"sk-estimator-id-1\" class=\"sk-toggleable__label sk-toggleable__label-arrow\">GridSearchCV</label><div class=\"sk-toggleable__content\"><pre>GridSearchCV(estimator=SVC(),\n",
       "             param_grid={&#x27;C&#x27;: [0.1, 1, 10, 100],\n",
       "                         &#x27;kernel&#x27;: [&#x27;rbf&#x27;, &#x27;poly&#x27;, &#x27;sigmoid&#x27;]},\n",
       "             verbose=2)</pre></div></div></div><div class=\"sk-parallel\"><div class=\"sk-parallel-item\"><div class=\"sk-item\"><div class=\"sk-label-container\"><div class=\"sk-label sk-toggleable\"><input class=\"sk-toggleable__control sk-hidden--visually\" id=\"sk-estimator-id-2\" type=\"checkbox\" ><label for=\"sk-estimator-id-2\" class=\"sk-toggleable__label sk-toggleable__label-arrow\">estimator: SVC</label><div class=\"sk-toggleable__content\"><pre>SVC()</pre></div></div></div><div class=\"sk-serial\"><div class=\"sk-item\"><div class=\"sk-estimator sk-toggleable\"><input class=\"sk-toggleable__control sk-hidden--visually\" id=\"sk-estimator-id-3\" type=\"checkbox\" ><label for=\"sk-estimator-id-3\" class=\"sk-toggleable__label sk-toggleable__label-arrow\">SVC</label><div class=\"sk-toggleable__content\"><pre>SVC()</pre></div></div></div></div></div></div></div></div></div></div>"
      ],
      "text/plain": [
       "GridSearchCV(estimator=SVC(),\n",
       "             param_grid={'C': [0.1, 1, 10, 100],\n",
       "                         'kernel': ['rbf', 'poly', 'sigmoid']},\n",
       "             verbose=2)"
      ]
     },
     "execution_count": 8,
     "metadata": {},
     "output_type": "execute_result"
    }
   ],
   "source": [
    "param_grid = {'C': [0.1,1, 10, 100],'kernel': ['rbf', 'poly', 'sigmoid']}\n",
    "grid = GridSearchCV(SVC(),param_grid,refit=True,verbose=2)\n",
    "grid.fit(x_train,y_train)"
   ]
  },
  {
   "cell_type": "code",
   "execution_count": 9,
   "id": "JZYuU_8RQw8T",
   "metadata": {
    "colab": {
     "base_uri": "https://localhost:8080/"
    },
    "id": "JZYuU_8RQw8T",
    "outputId": "ad1f21a7-0b31-4c8c-b6aa-2faa962f05ec"
   },
   "outputs": [
    {
     "name": "stdout",
     "output_type": "stream",
     "text": [
      "SVC(C=1, kernel='poly')\n"
     ]
    }
   ],
   "source": [
    "print(grid.best_estimator_)"
   ]
  },
  {
   "cell_type": "markdown",
   "id": "4YyqxetJuryt",
   "metadata": {
    "id": "4YyqxetJuryt"
   },
   "source": [
    "## 4. Training model"
   ]
  },
  {
   "cell_type": "markdown",
   "id": "mTqrWlwIuu5z",
   "metadata": {
    "id": "mTqrWlwIuu5z"
   },
   "source": [
    "Ara, tenint una configuració optimitzada per al model, hauríem de poder entrenar-lo i obtenir un bon resultat."
   ]
  },
  {
   "cell_type": "code",
   "execution_count": 5,
   "id": "50c4d6e0-3e63-4f7c-89d4-dc50ec467300",
   "metadata": {
    "colab": {
     "base_uri": "https://localhost:8080/",
     "height": 91
    },
    "id": "50c4d6e0-3e63-4f7c-89d4-dc50ec467300",
    "outputId": "8d5b06e7-240c-4a09-8085-c93b6e355ffb"
   },
   "outputs": [
    {
     "ename": "ValueError",
     "evalue": "setting an array element with a sequence. The requested array has an inhomogeneous shape after 2 dimensions. The detected shape was (1500, 20936) + inhomogeneous part.",
     "output_type": "error",
     "traceback": [
      "\u001b[0;31m---------------------------------------------------------------------------\u001b[0m",
      "\u001b[0;31mValueError\u001b[0m                                Traceback (most recent call last)",
      "Cell \u001b[0;32mIn[5], line 2\u001b[0m\n\u001b[1;32m      1\u001b[0m model \u001b[38;5;241m=\u001b[39m SVC(C\u001b[38;5;241m=\u001b[39m\u001b[38;5;241m1.0\u001b[39m, kernel\u001b[38;5;241m=\u001b[39m\u001b[38;5;124m'\u001b[39m\u001b[38;5;124mpoly\u001b[39m\u001b[38;5;124m'\u001b[39m, random_state\u001b[38;5;241m=\u001b[39m\u001b[38;5;241m33\u001b[39m)\n\u001b[0;32m----> 2\u001b[0m \u001b[43mmodel\u001b[49m\u001b[38;5;241;43m.\u001b[39;49m\u001b[43mfit\u001b[49m\u001b[43m(\u001b[49m\u001b[43mx_train\u001b[49m\u001b[43m,\u001b[49m\u001b[43my_train\u001b[49m\u001b[43m)\u001b[49m\n",
      "File \u001b[0;32m~/opt/miniconda3/envs/aa2023/lib/python3.10/site-packages/sklearn/base.py:1151\u001b[0m, in \u001b[0;36m_fit_context.<locals>.decorator.<locals>.wrapper\u001b[0;34m(estimator, *args, **kwargs)\u001b[0m\n\u001b[1;32m   1144\u001b[0m     estimator\u001b[38;5;241m.\u001b[39m_validate_params()\n\u001b[1;32m   1146\u001b[0m \u001b[38;5;28;01mwith\u001b[39;00m config_context(\n\u001b[1;32m   1147\u001b[0m     skip_parameter_validation\u001b[38;5;241m=\u001b[39m(\n\u001b[1;32m   1148\u001b[0m         prefer_skip_nested_validation \u001b[38;5;129;01mor\u001b[39;00m global_skip_validation\n\u001b[1;32m   1149\u001b[0m     )\n\u001b[1;32m   1150\u001b[0m ):\n\u001b[0;32m-> 1151\u001b[0m     \u001b[38;5;28;01mreturn\u001b[39;00m \u001b[43mfit_method\u001b[49m\u001b[43m(\u001b[49m\u001b[43mestimator\u001b[49m\u001b[43m,\u001b[49m\u001b[43m \u001b[49m\u001b[38;5;241;43m*\u001b[39;49m\u001b[43margs\u001b[49m\u001b[43m,\u001b[49m\u001b[43m \u001b[49m\u001b[38;5;241;43m*\u001b[39;49m\u001b[38;5;241;43m*\u001b[39;49m\u001b[43mkwargs\u001b[49m\u001b[43m)\u001b[49m\n",
      "File \u001b[0;32m~/opt/miniconda3/envs/aa2023/lib/python3.10/site-packages/sklearn/svm/_base.py:190\u001b[0m, in \u001b[0;36mBaseLibSVM.fit\u001b[0;34m(self, X, y, sample_weight)\u001b[0m\n\u001b[1;32m    188\u001b[0m     check_consistent_length(X, y)\n\u001b[1;32m    189\u001b[0m \u001b[38;5;28;01melse\u001b[39;00m:\n\u001b[0;32m--> 190\u001b[0m     X, y \u001b[38;5;241m=\u001b[39m \u001b[38;5;28;43mself\u001b[39;49m\u001b[38;5;241;43m.\u001b[39;49m\u001b[43m_validate_data\u001b[49m\u001b[43m(\u001b[49m\n\u001b[1;32m    191\u001b[0m \u001b[43m        \u001b[49m\u001b[43mX\u001b[49m\u001b[43m,\u001b[49m\n\u001b[1;32m    192\u001b[0m \u001b[43m        \u001b[49m\u001b[43my\u001b[49m\u001b[43m,\u001b[49m\n\u001b[1;32m    193\u001b[0m \u001b[43m        \u001b[49m\u001b[43mdtype\u001b[49m\u001b[38;5;241;43m=\u001b[39;49m\u001b[43mnp\u001b[49m\u001b[38;5;241;43m.\u001b[39;49m\u001b[43mfloat64\u001b[49m\u001b[43m,\u001b[49m\n\u001b[1;32m    194\u001b[0m \u001b[43m        \u001b[49m\u001b[43morder\u001b[49m\u001b[38;5;241;43m=\u001b[39;49m\u001b[38;5;124;43m\"\u001b[39;49m\u001b[38;5;124;43mC\u001b[39;49m\u001b[38;5;124;43m\"\u001b[39;49m\u001b[43m,\u001b[49m\n\u001b[1;32m    195\u001b[0m \u001b[43m        \u001b[49m\u001b[43maccept_sparse\u001b[49m\u001b[38;5;241;43m=\u001b[39;49m\u001b[38;5;124;43m\"\u001b[39;49m\u001b[38;5;124;43mcsr\u001b[39;49m\u001b[38;5;124;43m\"\u001b[39;49m\u001b[43m,\u001b[49m\n\u001b[1;32m    196\u001b[0m \u001b[43m        \u001b[49m\u001b[43maccept_large_sparse\u001b[49m\u001b[38;5;241;43m=\u001b[39;49m\u001b[38;5;28;43;01mFalse\u001b[39;49;00m\u001b[43m,\u001b[49m\n\u001b[1;32m    197\u001b[0m \u001b[43m    \u001b[49m\u001b[43m)\u001b[49m\n\u001b[1;32m    199\u001b[0m y \u001b[38;5;241m=\u001b[39m \u001b[38;5;28mself\u001b[39m\u001b[38;5;241m.\u001b[39m_validate_targets(y)\n\u001b[1;32m    201\u001b[0m sample_weight \u001b[38;5;241m=\u001b[39m np\u001b[38;5;241m.\u001b[39masarray(\n\u001b[1;32m    202\u001b[0m     [] \u001b[38;5;28;01mif\u001b[39;00m sample_weight \u001b[38;5;129;01mis\u001b[39;00m \u001b[38;5;28;01mNone\u001b[39;00m \u001b[38;5;28;01melse\u001b[39;00m sample_weight, dtype\u001b[38;5;241m=\u001b[39mnp\u001b[38;5;241m.\u001b[39mfloat64\n\u001b[1;32m    203\u001b[0m )\n",
      "File \u001b[0;32m~/opt/miniconda3/envs/aa2023/lib/python3.10/site-packages/sklearn/base.py:621\u001b[0m, in \u001b[0;36mBaseEstimator._validate_data\u001b[0;34m(self, X, y, reset, validate_separately, cast_to_ndarray, **check_params)\u001b[0m\n\u001b[1;32m    619\u001b[0m         y \u001b[38;5;241m=\u001b[39m check_array(y, input_name\u001b[38;5;241m=\u001b[39m\u001b[38;5;124m\"\u001b[39m\u001b[38;5;124my\u001b[39m\u001b[38;5;124m\"\u001b[39m, \u001b[38;5;241m*\u001b[39m\u001b[38;5;241m*\u001b[39mcheck_y_params)\n\u001b[1;32m    620\u001b[0m     \u001b[38;5;28;01melse\u001b[39;00m:\n\u001b[0;32m--> 621\u001b[0m         X, y \u001b[38;5;241m=\u001b[39m \u001b[43mcheck_X_y\u001b[49m\u001b[43m(\u001b[49m\u001b[43mX\u001b[49m\u001b[43m,\u001b[49m\u001b[43m \u001b[49m\u001b[43my\u001b[49m\u001b[43m,\u001b[49m\u001b[43m \u001b[49m\u001b[38;5;241;43m*\u001b[39;49m\u001b[38;5;241;43m*\u001b[39;49m\u001b[43mcheck_params\u001b[49m\u001b[43m)\u001b[49m\n\u001b[1;32m    622\u001b[0m     out \u001b[38;5;241m=\u001b[39m X, y\n\u001b[1;32m    624\u001b[0m \u001b[38;5;28;01mif\u001b[39;00m \u001b[38;5;129;01mnot\u001b[39;00m no_val_X \u001b[38;5;129;01mand\u001b[39;00m check_params\u001b[38;5;241m.\u001b[39mget(\u001b[38;5;124m\"\u001b[39m\u001b[38;5;124mensure_2d\u001b[39m\u001b[38;5;124m\"\u001b[39m, \u001b[38;5;28;01mTrue\u001b[39;00m):\n",
      "File \u001b[0;32m~/opt/miniconda3/envs/aa2023/lib/python3.10/site-packages/sklearn/utils/validation.py:1147\u001b[0m, in \u001b[0;36mcheck_X_y\u001b[0;34m(X, y, accept_sparse, accept_large_sparse, dtype, order, copy, force_all_finite, ensure_2d, allow_nd, multi_output, ensure_min_samples, ensure_min_features, y_numeric, estimator)\u001b[0m\n\u001b[1;32m   1142\u001b[0m         estimator_name \u001b[38;5;241m=\u001b[39m _check_estimator_name(estimator)\n\u001b[1;32m   1143\u001b[0m     \u001b[38;5;28;01mraise\u001b[39;00m \u001b[38;5;167;01mValueError\u001b[39;00m(\n\u001b[1;32m   1144\u001b[0m         \u001b[38;5;124mf\u001b[39m\u001b[38;5;124m\"\u001b[39m\u001b[38;5;132;01m{\u001b[39;00mestimator_name\u001b[38;5;132;01m}\u001b[39;00m\u001b[38;5;124m requires y to be passed, but the target y is None\u001b[39m\u001b[38;5;124m\"\u001b[39m\n\u001b[1;32m   1145\u001b[0m     )\n\u001b[0;32m-> 1147\u001b[0m X \u001b[38;5;241m=\u001b[39m \u001b[43mcheck_array\u001b[49m\u001b[43m(\u001b[49m\n\u001b[1;32m   1148\u001b[0m \u001b[43m    \u001b[49m\u001b[43mX\u001b[49m\u001b[43m,\u001b[49m\n\u001b[1;32m   1149\u001b[0m \u001b[43m    \u001b[49m\u001b[43maccept_sparse\u001b[49m\u001b[38;5;241;43m=\u001b[39;49m\u001b[43maccept_sparse\u001b[49m\u001b[43m,\u001b[49m\n\u001b[1;32m   1150\u001b[0m \u001b[43m    \u001b[49m\u001b[43maccept_large_sparse\u001b[49m\u001b[38;5;241;43m=\u001b[39;49m\u001b[43maccept_large_sparse\u001b[49m\u001b[43m,\u001b[49m\n\u001b[1;32m   1151\u001b[0m \u001b[43m    \u001b[49m\u001b[43mdtype\u001b[49m\u001b[38;5;241;43m=\u001b[39;49m\u001b[43mdtype\u001b[49m\u001b[43m,\u001b[49m\n\u001b[1;32m   1152\u001b[0m \u001b[43m    \u001b[49m\u001b[43morder\u001b[49m\u001b[38;5;241;43m=\u001b[39;49m\u001b[43morder\u001b[49m\u001b[43m,\u001b[49m\n\u001b[1;32m   1153\u001b[0m \u001b[43m    \u001b[49m\u001b[43mcopy\u001b[49m\u001b[38;5;241;43m=\u001b[39;49m\u001b[43mcopy\u001b[49m\u001b[43m,\u001b[49m\n\u001b[1;32m   1154\u001b[0m \u001b[43m    \u001b[49m\u001b[43mforce_all_finite\u001b[49m\u001b[38;5;241;43m=\u001b[39;49m\u001b[43mforce_all_finite\u001b[49m\u001b[43m,\u001b[49m\n\u001b[1;32m   1155\u001b[0m \u001b[43m    \u001b[49m\u001b[43mensure_2d\u001b[49m\u001b[38;5;241;43m=\u001b[39;49m\u001b[43mensure_2d\u001b[49m\u001b[43m,\u001b[49m\n\u001b[1;32m   1156\u001b[0m \u001b[43m    \u001b[49m\u001b[43mallow_nd\u001b[49m\u001b[38;5;241;43m=\u001b[39;49m\u001b[43mallow_nd\u001b[49m\u001b[43m,\u001b[49m\n\u001b[1;32m   1157\u001b[0m \u001b[43m    \u001b[49m\u001b[43mensure_min_samples\u001b[49m\u001b[38;5;241;43m=\u001b[39;49m\u001b[43mensure_min_samples\u001b[49m\u001b[43m,\u001b[49m\n\u001b[1;32m   1158\u001b[0m \u001b[43m    \u001b[49m\u001b[43mensure_min_features\u001b[49m\u001b[38;5;241;43m=\u001b[39;49m\u001b[43mensure_min_features\u001b[49m\u001b[43m,\u001b[49m\n\u001b[1;32m   1159\u001b[0m \u001b[43m    \u001b[49m\u001b[43mestimator\u001b[49m\u001b[38;5;241;43m=\u001b[39;49m\u001b[43mestimator\u001b[49m\u001b[43m,\u001b[49m\n\u001b[1;32m   1160\u001b[0m \u001b[43m    \u001b[49m\u001b[43minput_name\u001b[49m\u001b[38;5;241;43m=\u001b[39;49m\u001b[38;5;124;43m\"\u001b[39;49m\u001b[38;5;124;43mX\u001b[39;49m\u001b[38;5;124;43m\"\u001b[39;49m\u001b[43m,\u001b[49m\n\u001b[1;32m   1161\u001b[0m \u001b[43m\u001b[49m\u001b[43m)\u001b[49m\n\u001b[1;32m   1163\u001b[0m y \u001b[38;5;241m=\u001b[39m _check_y(y, multi_output\u001b[38;5;241m=\u001b[39mmulti_output, y_numeric\u001b[38;5;241m=\u001b[39my_numeric, estimator\u001b[38;5;241m=\u001b[39mestimator)\n\u001b[1;32m   1165\u001b[0m check_consistent_length(X, y)\n",
      "File \u001b[0;32m~/opt/miniconda3/envs/aa2023/lib/python3.10/site-packages/sklearn/utils/validation.py:917\u001b[0m, in \u001b[0;36mcheck_array\u001b[0;34m(array, accept_sparse, accept_large_sparse, dtype, order, copy, force_all_finite, ensure_2d, allow_nd, ensure_min_samples, ensure_min_features, estimator, input_name)\u001b[0m\n\u001b[1;32m    915\u001b[0m         array \u001b[38;5;241m=\u001b[39m xp\u001b[38;5;241m.\u001b[39mastype(array, dtype, copy\u001b[38;5;241m=\u001b[39m\u001b[38;5;28;01mFalse\u001b[39;00m)\n\u001b[1;32m    916\u001b[0m     \u001b[38;5;28;01melse\u001b[39;00m:\n\u001b[0;32m--> 917\u001b[0m         array \u001b[38;5;241m=\u001b[39m \u001b[43m_asarray_with_order\u001b[49m\u001b[43m(\u001b[49m\u001b[43marray\u001b[49m\u001b[43m,\u001b[49m\u001b[43m \u001b[49m\u001b[43morder\u001b[49m\u001b[38;5;241;43m=\u001b[39;49m\u001b[43morder\u001b[49m\u001b[43m,\u001b[49m\u001b[43m \u001b[49m\u001b[43mdtype\u001b[49m\u001b[38;5;241;43m=\u001b[39;49m\u001b[43mdtype\u001b[49m\u001b[43m,\u001b[49m\u001b[43m \u001b[49m\u001b[43mxp\u001b[49m\u001b[38;5;241;43m=\u001b[39;49m\u001b[43mxp\u001b[49m\u001b[43m)\u001b[49m\n\u001b[1;32m    918\u001b[0m \u001b[38;5;28;01mexcept\u001b[39;00m ComplexWarning \u001b[38;5;28;01mas\u001b[39;00m complex_warning:\n\u001b[1;32m    919\u001b[0m     \u001b[38;5;28;01mraise\u001b[39;00m \u001b[38;5;167;01mValueError\u001b[39;00m(\n\u001b[1;32m    920\u001b[0m         \u001b[38;5;124m\"\u001b[39m\u001b[38;5;124mComplex data not supported\u001b[39m\u001b[38;5;130;01m\\n\u001b[39;00m\u001b[38;5;132;01m{}\u001b[39;00m\u001b[38;5;130;01m\\n\u001b[39;00m\u001b[38;5;124m\"\u001b[39m\u001b[38;5;241m.\u001b[39mformat(array)\n\u001b[1;32m    921\u001b[0m     ) \u001b[38;5;28;01mfrom\u001b[39;00m \u001b[38;5;21;01mcomplex_warning\u001b[39;00m\n",
      "File \u001b[0;32m~/opt/miniconda3/envs/aa2023/lib/python3.10/site-packages/sklearn/utils/_array_api.py:380\u001b[0m, in \u001b[0;36m_asarray_with_order\u001b[0;34m(array, dtype, order, copy, xp)\u001b[0m\n\u001b[1;32m    378\u001b[0m     array \u001b[38;5;241m=\u001b[39m numpy\u001b[38;5;241m.\u001b[39marray(array, order\u001b[38;5;241m=\u001b[39morder, dtype\u001b[38;5;241m=\u001b[39mdtype)\n\u001b[1;32m    379\u001b[0m \u001b[38;5;28;01melse\u001b[39;00m:\n\u001b[0;32m--> 380\u001b[0m     array \u001b[38;5;241m=\u001b[39m \u001b[43mnumpy\u001b[49m\u001b[38;5;241;43m.\u001b[39;49m\u001b[43masarray\u001b[49m\u001b[43m(\u001b[49m\u001b[43marray\u001b[49m\u001b[43m,\u001b[49m\u001b[43m \u001b[49m\u001b[43morder\u001b[49m\u001b[38;5;241;43m=\u001b[39;49m\u001b[43morder\u001b[49m\u001b[43m,\u001b[49m\u001b[43m \u001b[49m\u001b[43mdtype\u001b[49m\u001b[38;5;241;43m=\u001b[39;49m\u001b[43mdtype\u001b[49m\u001b[43m)\u001b[49m\n\u001b[1;32m    382\u001b[0m \u001b[38;5;66;03m# At this point array is a NumPy ndarray. We convert it to an array\u001b[39;00m\n\u001b[1;32m    383\u001b[0m \u001b[38;5;66;03m# container that is consistent with the input's namespace.\u001b[39;00m\n\u001b[1;32m    384\u001b[0m \u001b[38;5;28;01mreturn\u001b[39;00m xp\u001b[38;5;241m.\u001b[39masarray(array)\n",
      "\u001b[0;31mValueError\u001b[0m: setting an array element with a sequence. The requested array has an inhomogeneous shape after 2 dimensions. The detected shape was (1500, 20936) + inhomogeneous part."
     ]
    }
   ],
   "source": [
    "model = SVC(C=1.0, kernel='poly', random_state=33)\n",
    "model.fit(x_train,y_train)"
   ]
  },
  {
   "cell_type": "markdown",
   "id": "vMpGDQPAvA8C",
   "metadata": {
    "id": "vMpGDQPAvA8C"
   },
   "source": [
    "## 5. Evaluating model"
   ]
  },
  {
   "cell_type": "markdown",
   "id": "0e1DitopvBk6",
   "metadata": {
    "id": "0e1DitopvBk6"
   },
   "source": [
    "Finalment, predirem les nostres dades definides per provar-les i les compararem amb els valors esperats reals. El nostre objectiu és obtenir un % de precisió d'encerts del nostre model."
   ]
  },
  {
   "cell_type": "code",
   "execution_count": 11,
   "id": "e48160ec-e65b-44ce-b4e4-b3180acaf4de",
   "metadata": {
    "id": "e48160ec-e65b-44ce-b4e4-b3180acaf4de"
   },
   "outputs": [],
   "source": [
    "y_meu = model.predict(x_test)"
   ]
  },
  {
   "cell_type": "code",
   "execution_count": 12,
   "id": "PpdpBkmWOyrV",
   "metadata": {
    "colab": {
     "base_uri": "https://localhost:8080/"
    },
    "id": "PpdpBkmWOyrV",
    "outputId": "1b1c128c-2aec-4844-9d86-89013739eedb"
   },
   "outputs": [
    {
     "name": "stdout",
     "output_type": "stream",
     "text": [
      "   Accuracy   : 0.6432160804020101\n"
     ]
    }
   ],
   "source": [
    "precision_meu = accuracy_score(y_test, y_meu)\n",
    "print(f\"   Accuracy   : {precision_meu}\")"
   ]
  }
 ],
 "metadata": {
  "accelerator": "GPU",
  "colab": {
   "gpuType": "T4",
   "provenance": []
  },
  "kernelspec": {
   "display_name": "Python 3 (ipykernel)",
   "language": "python",
   "name": "python3"
  },
  "language_info": {
   "codemirror_mode": {
    "name": "ipython",
    "version": 3
   },
   "file_extension": ".py",
   "mimetype": "text/x-python",
   "name": "python",
   "nbconvert_exporter": "python",
   "pygments_lexer": "ipython3",
   "version": "3.10.13"
  }
 },
 "nbformat": 4,
 "nbformat_minor": 5
}
