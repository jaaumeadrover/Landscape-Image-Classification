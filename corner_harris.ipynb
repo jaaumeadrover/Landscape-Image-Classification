{
 "cells": [
  {
   "cell_type": "markdown",
   "id": "af38ead6-d68e-468e-b76f-23a766974385",
   "metadata": {
    "id": "af38ead6-d68e-468e-b76f-23a766974385"
   },
   "source": [
    "# Corner Harrisfeature testing"
   ]
  },
  {
   "cell_type": "markdown",
   "id": "yr8vRoIkpEJq",
   "metadata": {
    "id": "yr8vRoIkpEJq"
   },
   "source": [
    "En aquest fitxer, ens encarregarem de testejar l'evaluació del model amb la característica individual Corner Harris."
   ]
  },
  {
   "cell_type": "markdown",
   "id": "O1_pzmqapElm",
   "metadata": {
    "id": "O1_pzmqapElm"
   },
   "source": [
    "## 1. Configuració"
   ]
  },
  {
   "cell_type": "markdown",
   "id": "qKqxPW6mm4Su",
   "metadata": {
    "id": "qKqxPW6mm4Su"
   },
   "source": [
    "Primer ens encarregarem d'importar totes les llibraries necessàries i definir un FeatureTransformer amb els paràmetres corresponents a la nostra feature."
   ]
  },
  {
   "cell_type": "code",
   "execution_count": 6,
   "id": "b66bbbb0-0fc6-4437-bb99-f88c9755eb78",
   "metadata": {
    "id": "b66bbbb0-0fc6-4437-bb99-f88c9755eb78"
   },
   "outputs": [],
   "source": [
    "import cv2\n",
    "import os\n",
    "import skimage.feature\n",
    "from FeatureTransformer import FeatureTransformer\n",
    "from Utils import process_images_in_folder\n",
    "from sklearn.metrics import accuracy_score\n",
    "from sklearn.model_selection import GridSearchCV\n",
    "from sklearn.svm import SVC\n",
    "import numpy as np"
   ]
  },
  {
   "cell_type": "code",
   "execution_count": 7,
   "id": "9bcda8b8-065f-4fa5-a491-40f533fddee1",
   "metadata": {
    "id": "9bcda8b8-065f-4fa5-a491-40f533fddee1"
   },
   "outputs": [],
   "source": [
    "transformer = FeatureTransformer()\n",
    "corner_harris_params = {\n",
    "    'method':'k',\n",
    "    'k': 0.05,\n",
    "    'eps': 1e-06,\n",
    "    'sigma': 1\n",
    "}\n",
    "customFeature=[skimage.feature.corner_harris,corner_harris_params]"
   ]
  },
  {
   "cell_type": "markdown",
   "id": "c762bb8d-9b49-4f77-95c2-d2afa497a000",
   "metadata": {
    "id": "c762bb8d-9b49-4f77-95c2-d2afa497a000"
   },
   "source": [
    "## 2. Feature extraction"
   ]
  },
  {
   "cell_type": "markdown",
   "id": "KBd9Y7zErZS4",
   "metadata": {
    "id": "KBd9Y7zErZS4"
   },
   "source": [
    "En aquesta part, definirem les variables necessàries per a l'entrenament i l'avaluació del model. També començarem a extreure característiques (features) de les imatges."
   ]
  },
  {
   "cell_type": "code",
   "execution_count": 8,
   "id": "71372509-06e4-4411-8285-6452e0b44041",
   "metadata": {
    "id": "71372509-06e4-4411-8285-6452e0b44041"
   },
   "outputs": [],
   "source": [
    "x_train=[]\n",
    "y_train=[]\n",
    "x_test=[]\n",
    "y_test=[]"
   ]
  },
  {
   "cell_type": "code",
   "execution_count": 9,
   "id": "e0737bb6-0b99-4682-acb9-10218b6fbcb0",
   "metadata": {
    "colab": {
     "base_uri": "https://localhost:8080/"
    },
    "id": "e0737bb6-0b99-4682-acb9-10218b6fbcb0",
    "outputId": "921783a6-4fa4-4a00-a5b0-41f6dea6f32a"
   },
   "outputs": [
    {
     "name": "stdout",
     "output_type": "stream",
     "text": [
      "*********************TRAINING*********************\n",
      "Extraguent features de la classe: Forest\n",
      "Extraguent features de la classe: bedroom\n",
      "Extraguent features de la classe: Office\n",
      "Extraguent features de la classe: Highway\n",
      "Extraguent features de la classe: Coast\n",
      "Extraguent features de la classe: Insidecity\n",
      "Extraguent features de la classe: TallBuilding\n",
      "Extraguent features de la classe: industrial\n",
      "Extraguent features de la classe: Street\n",
      "Extraguent features de la classe: livingroom\n",
      "Extraguent features de la classe: Suburb\n",
      "Extraguent features de la classe: Mountain\n",
      "Extraguent features de la classe: kitchen\n",
      "Extraguent features de la classe: OpenCountry\n",
      "Extraguent features de la classe: store\n",
      "*********************TESTING*********************\n",
      "Extraguent features de la classe: forest\n",
      "Extraguent features de la classe: bedroom\n",
      "Extraguent features de la classe: office\n",
      "Extraguent features de la classe: highway\n",
      "Extraguent features de la classe: coast\n",
      "Extraguent features de la classe: insidecity\n",
      "Extraguent features de la classe: tallbuilding\n",
      "Extraguent features de la classe: industrial\n",
      "Extraguent features de la classe: street\n",
      "Extraguent features de la classe: livingRoom\n",
      "Extraguent features de la classe: suburb\n",
      "Extraguent features de la classe: mountain\n",
      "Extraguent features de la classe: kitchen\n",
      "Extraguent features de la classe: opencountry\n",
      "Extraguent features de la classe: store\n"
     ]
    }
   ],
   "source": [
    "train_folder_path = 'data/train'\n",
    "test_folder_path = 'data/test'\n",
    "\n",
    "# Extract features from training data\n",
    "print('*********************TRAINING*********************')\n",
    "for class_folder in os.listdir(train_folder_path):\n",
    "    print(\"Extraguent features de la classe: \" + str(class_folder))\n",
    "    class_folder_path = os.path.join(train_folder_path, class_folder)\n",
    "    process_images_in_folder(transformer,customFeature,class_folder_path,class_folder,x_train,y_train)\n",
    "\n",
    "# Extract features from testing data\n",
    "print('*********************TESTING*********************')\n",
    "for class_folder in os.listdir(test_folder_path):\n",
    "    print(\"Extraguent features de la classe: \" + str(class_folder))\n",
    "    class_folder_path = os.path.join(test_folder_path, class_folder)\n",
    "    process_images_in_folder(transformer,customFeature,class_folder_path,class_folder,x_test,y_test)"
   ]
  },
  {
   "cell_type": "markdown",
   "id": "26215848-b657-48e1-9ee3-37bdf9d62654",
   "metadata": {},
   "source": [
    "Finalment, ens encarregam de que estiguin en el format correcte per a passar al model."
   ]
  },
  {
   "cell_type": "code",
   "execution_count": 10,
   "id": "289e8929-dd92-48ed-ae13-80f50f2b7189",
   "metadata": {},
   "outputs": [],
   "source": [
    "x_train = np.array(x_train).reshape(len(x_train), -1)\n",
    "x_test = np.array(x_test).reshape(len(x_test), -1)"
   ]
  },
  {
   "cell_type": "markdown",
   "id": "kyWmCUu1tQUD",
   "metadata": {
    "id": "kyWmCUu1tQUD"
   },
   "source": [
    "## 3. Fine Tuning"
   ]
  },
  {
   "cell_type": "markdown",
   "id": "iXRr5bB-tqYz",
   "metadata": {
    "id": "iXRr5bB-tqYz"
   },
   "source": [
    "En aquest apartat, ens encarregarem de trobar les millors configuracions possibles per al nostre model amb el mètode GridSearchCV de Sklearn. Escollirem una llista de paràmetres amb diferents valors i imprimirem per pantalla el millor estimador."
   ]
  },
  {
   "cell_type": "code",
   "execution_count": 11,
   "id": "k3olervERbNG",
   "metadata": {
    "id": "k3olervERbNG"
   },
   "outputs": [
    {
     "name": "stdout",
     "output_type": "stream",
     "text": [
      "Fitting 5 folds for each of 12 candidates, totalling 60 fits\n",
      "[CV] END ..................................C=0.1, kernel=rbf; total time= 1.1min\n",
      "[CV] END ..................................C=0.1, kernel=rbf; total time= 1.1min\n",
      "[CV] END ..................................C=0.1, kernel=rbf; total time= 1.1min\n",
      "[CV] END ..................................C=0.1, kernel=rbf; total time= 1.1min\n",
      "[CV] END ..................................C=0.1, kernel=rbf; total time= 1.1min\n",
      "[CV] END .................................C=0.1, kernel=poly; total time= 1.0min\n",
      "[CV] END .................................C=0.1, kernel=poly; total time= 1.0min\n",
      "[CV] END .................................C=0.1, kernel=poly; total time= 1.0min\n",
      "[CV] END .................................C=0.1, kernel=poly; total time= 1.1min\n",
      "[CV] END .................................C=0.1, kernel=poly; total time= 1.0min\n",
      "[CV] END ..............................C=0.1, kernel=sigmoid; total time= 1.0min\n",
      "[CV] END ..............................C=0.1, kernel=sigmoid; total time= 1.1min\n",
      "[CV] END ..............................C=0.1, kernel=sigmoid; total time= 1.0min\n",
      "[CV] END ..............................C=0.1, kernel=sigmoid; total time= 1.0min\n",
      "[CV] END ..............................C=0.1, kernel=sigmoid; total time= 1.0min\n",
      "[CV] END ....................................C=1, kernel=rbf; total time=  58.9s\n",
      "[CV] END ....................................C=1, kernel=rbf; total time=  59.0s\n",
      "[CV] END ....................................C=1, kernel=rbf; total time=  59.2s\n",
      "[CV] END ....................................C=1, kernel=rbf; total time=  59.0s\n",
      "[CV] END ....................................C=1, kernel=rbf; total time=  59.4s\n",
      "[CV] END ...................................C=1, kernel=poly; total time=  58.0s\n",
      "[CV] END ...................................C=1, kernel=poly; total time=  58.2s\n",
      "[CV] END ...................................C=1, kernel=poly; total time=  58.3s\n",
      "[CV] END ...................................C=1, kernel=poly; total time=  59.1s\n",
      "[CV] END ...................................C=1, kernel=poly; total time=  59.3s\n",
      "[CV] END ................................C=1, kernel=sigmoid; total time=  53.2s\n",
      "[CV] END ................................C=1, kernel=sigmoid; total time=  52.3s\n",
      "[CV] END ................................C=1, kernel=sigmoid; total time=  52.1s\n",
      "[CV] END ................................C=1, kernel=sigmoid; total time=  52.2s\n",
      "[CV] END ................................C=1, kernel=sigmoid; total time=  52.4s\n",
      "[CV] END ...................................C=10, kernel=rbf; total time= 1.0min\n",
      "[CV] END ...................................C=10, kernel=rbf; total time= 1.0min\n",
      "[CV] END ...................................C=10, kernel=rbf; total time= 1.1min\n",
      "[CV] END ...................................C=10, kernel=rbf; total time= 1.1min\n",
      "[CV] END ...................................C=10, kernel=rbf; total time= 1.1min\n",
      "[CV] END ..................................C=10, kernel=poly; total time=  58.2s\n",
      "[CV] END ..................................C=10, kernel=poly; total time=  59.0s\n",
      "[CV] END ..................................C=10, kernel=poly; total time=  58.2s\n",
      "[CV] END ..................................C=10, kernel=poly; total time=  59.5s\n",
      "[CV] END ..................................C=10, kernel=poly; total time=  58.7s\n",
      "[CV] END ...............................C=10, kernel=sigmoid; total time=  41.7s\n",
      "[CV] END ...............................C=10, kernel=sigmoid; total time=  40.4s\n",
      "[CV] END ...............................C=10, kernel=sigmoid; total time=  40.0s\n",
      "[CV] END ...............................C=10, kernel=sigmoid; total time=  41.7s\n",
      "[CV] END ...............................C=10, kernel=sigmoid; total time=  42.7s\n",
      "[CV] END ..................................C=100, kernel=rbf; total time= 1.0min\n",
      "[CV] END ..................................C=100, kernel=rbf; total time= 1.0min\n",
      "[CV] END ..................................C=100, kernel=rbf; total time= 1.0min\n",
      "[CV] END ..................................C=100, kernel=rbf; total time= 1.1min\n",
      "[CV] END ..................................C=100, kernel=rbf; total time= 1.1min\n",
      "[CV] END .................................C=100, kernel=poly; total time=  58.2s\n",
      "[CV] END .................................C=100, kernel=poly; total time=  58.2s\n",
      "[CV] END .................................C=100, kernel=poly; total time=  57.7s\n",
      "[CV] END .................................C=100, kernel=poly; total time=  57.6s\n",
      "[CV] END .................................C=100, kernel=poly; total time=  58.1s\n",
      "[CV] END ..............................C=100, kernel=sigmoid; total time=  31.6s\n",
      "[CV] END ..............................C=100, kernel=sigmoid; total time=  31.1s\n",
      "[CV] END ..............................C=100, kernel=sigmoid; total time=  31.6s\n",
      "[CV] END ..............................C=100, kernel=sigmoid; total time=  31.3s\n",
      "[CV] END ..............................C=100, kernel=sigmoid; total time=  31.2s\n"
     ]
    },
    {
     "data": {
      "text/html": [
       "<style>#sk-container-id-1 {color: black;}#sk-container-id-1 pre{padding: 0;}#sk-container-id-1 div.sk-toggleable {background-color: white;}#sk-container-id-1 label.sk-toggleable__label {cursor: pointer;display: block;width: 100%;margin-bottom: 0;padding: 0.3em;box-sizing: border-box;text-align: center;}#sk-container-id-1 label.sk-toggleable__label-arrow:before {content: \"▸\";float: left;margin-right: 0.25em;color: #696969;}#sk-container-id-1 label.sk-toggleable__label-arrow:hover:before {color: black;}#sk-container-id-1 div.sk-estimator:hover label.sk-toggleable__label-arrow:before {color: black;}#sk-container-id-1 div.sk-toggleable__content {max-height: 0;max-width: 0;overflow: hidden;text-align: left;background-color: #f0f8ff;}#sk-container-id-1 div.sk-toggleable__content pre {margin: 0.2em;color: black;border-radius: 0.25em;background-color: #f0f8ff;}#sk-container-id-1 input.sk-toggleable__control:checked~div.sk-toggleable__content {max-height: 200px;max-width: 100%;overflow: auto;}#sk-container-id-1 input.sk-toggleable__control:checked~label.sk-toggleable__label-arrow:before {content: \"▾\";}#sk-container-id-1 div.sk-estimator input.sk-toggleable__control:checked~label.sk-toggleable__label {background-color: #d4ebff;}#sk-container-id-1 div.sk-label input.sk-toggleable__control:checked~label.sk-toggleable__label {background-color: #d4ebff;}#sk-container-id-1 input.sk-hidden--visually {border: 0;clip: rect(1px 1px 1px 1px);clip: rect(1px, 1px, 1px, 1px);height: 1px;margin: -1px;overflow: hidden;padding: 0;position: absolute;width: 1px;}#sk-container-id-1 div.sk-estimator {font-family: monospace;background-color: #f0f8ff;border: 1px dotted black;border-radius: 0.25em;box-sizing: border-box;margin-bottom: 0.5em;}#sk-container-id-1 div.sk-estimator:hover {background-color: #d4ebff;}#sk-container-id-1 div.sk-parallel-item::after {content: \"\";width: 100%;border-bottom: 1px solid gray;flex-grow: 1;}#sk-container-id-1 div.sk-label:hover label.sk-toggleable__label {background-color: #d4ebff;}#sk-container-id-1 div.sk-serial::before {content: \"\";position: absolute;border-left: 1px solid gray;box-sizing: border-box;top: 0;bottom: 0;left: 50%;z-index: 0;}#sk-container-id-1 div.sk-serial {display: flex;flex-direction: column;align-items: center;background-color: white;padding-right: 0.2em;padding-left: 0.2em;position: relative;}#sk-container-id-1 div.sk-item {position: relative;z-index: 1;}#sk-container-id-1 div.sk-parallel {display: flex;align-items: stretch;justify-content: center;background-color: white;position: relative;}#sk-container-id-1 div.sk-item::before, #sk-container-id-1 div.sk-parallel-item::before {content: \"\";position: absolute;border-left: 1px solid gray;box-sizing: border-box;top: 0;bottom: 0;left: 50%;z-index: -1;}#sk-container-id-1 div.sk-parallel-item {display: flex;flex-direction: column;z-index: 1;position: relative;background-color: white;}#sk-container-id-1 div.sk-parallel-item:first-child::after {align-self: flex-end;width: 50%;}#sk-container-id-1 div.sk-parallel-item:last-child::after {align-self: flex-start;width: 50%;}#sk-container-id-1 div.sk-parallel-item:only-child::after {width: 0;}#sk-container-id-1 div.sk-dashed-wrapped {border: 1px dashed gray;margin: 0 0.4em 0.5em 0.4em;box-sizing: border-box;padding-bottom: 0.4em;background-color: white;}#sk-container-id-1 div.sk-label label {font-family: monospace;font-weight: bold;display: inline-block;line-height: 1.2em;}#sk-container-id-1 div.sk-label-container {text-align: center;}#sk-container-id-1 div.sk-container {/* jupyter's `normalize.less` sets `[hidden] { display: none; }` but bootstrap.min.css set `[hidden] { display: none !important; }` so we also need the `!important` here to be able to override the default hidden behavior on the sphinx rendered scikit-learn.org. See: https://github.com/scikit-learn/scikit-learn/issues/21755 */display: inline-block !important;position: relative;}#sk-container-id-1 div.sk-text-repr-fallback {display: none;}</style><div id=\"sk-container-id-1\" class=\"sk-top-container\"><div class=\"sk-text-repr-fallback\"><pre>GridSearchCV(estimator=SVC(),\n",
       "             param_grid={&#x27;C&#x27;: [0.1, 1, 10, 100],\n",
       "                         &#x27;kernel&#x27;: [&#x27;rbf&#x27;, &#x27;poly&#x27;, &#x27;sigmoid&#x27;]},\n",
       "             verbose=2)</pre><b>In a Jupyter environment, please rerun this cell to show the HTML representation or trust the notebook. <br />On GitHub, the HTML representation is unable to render, please try loading this page with nbviewer.org.</b></div><div class=\"sk-container\" hidden><div class=\"sk-item sk-dashed-wrapped\"><div class=\"sk-label-container\"><div class=\"sk-label sk-toggleable\"><input class=\"sk-toggleable__control sk-hidden--visually\" id=\"sk-estimator-id-1\" type=\"checkbox\" ><label for=\"sk-estimator-id-1\" class=\"sk-toggleable__label sk-toggleable__label-arrow\">GridSearchCV</label><div class=\"sk-toggleable__content\"><pre>GridSearchCV(estimator=SVC(),\n",
       "             param_grid={&#x27;C&#x27;: [0.1, 1, 10, 100],\n",
       "                         &#x27;kernel&#x27;: [&#x27;rbf&#x27;, &#x27;poly&#x27;, &#x27;sigmoid&#x27;]},\n",
       "             verbose=2)</pre></div></div></div><div class=\"sk-parallel\"><div class=\"sk-parallel-item\"><div class=\"sk-item\"><div class=\"sk-label-container\"><div class=\"sk-label sk-toggleable\"><input class=\"sk-toggleable__control sk-hidden--visually\" id=\"sk-estimator-id-2\" type=\"checkbox\" ><label for=\"sk-estimator-id-2\" class=\"sk-toggleable__label sk-toggleable__label-arrow\">estimator: SVC</label><div class=\"sk-toggleable__content\"><pre>SVC()</pre></div></div></div><div class=\"sk-serial\"><div class=\"sk-item\"><div class=\"sk-estimator sk-toggleable\"><input class=\"sk-toggleable__control sk-hidden--visually\" id=\"sk-estimator-id-3\" type=\"checkbox\" ><label for=\"sk-estimator-id-3\" class=\"sk-toggleable__label sk-toggleable__label-arrow\">SVC</label><div class=\"sk-toggleable__content\"><pre>SVC()</pre></div></div></div></div></div></div></div></div></div></div>"
      ],
      "text/plain": [
       "GridSearchCV(estimator=SVC(),\n",
       "             param_grid={'C': [0.1, 1, 10, 100],\n",
       "                         'kernel': ['rbf', 'poly', 'sigmoid']},\n",
       "             verbose=2)"
      ]
     },
     "execution_count": 11,
     "metadata": {},
     "output_type": "execute_result"
    }
   ],
   "source": [
    "param_grid = {'C': [0.1,1, 10, 100],'kernel': ['rbf', 'poly', 'sigmoid']}\n",
    "grid = GridSearchCV(SVC(),param_grid,refit=True,verbose=2)\n",
    "grid.fit(x_train,y_train)"
   ]
  },
  {
   "cell_type": "code",
   "execution_count": 12,
   "id": "JZYuU_8RQw8T",
   "metadata": {
    "colab": {
     "base_uri": "https://localhost:8080/"
    },
    "id": "JZYuU_8RQw8T",
    "outputId": "ad1f21a7-0b31-4c8c-b6aa-2faa962f05ec"
   },
   "outputs": [
    {
     "name": "stdout",
     "output_type": "stream",
     "text": [
      "SVC(C=100)\n"
     ]
    }
   ],
   "source": [
    "print(grid.best_estimator_)"
   ]
  },
  {
   "cell_type": "markdown",
   "id": "4YyqxetJuryt",
   "metadata": {
    "id": "4YyqxetJuryt"
   },
   "source": [
    "## 4. Training model"
   ]
  },
  {
   "cell_type": "markdown",
   "id": "mTqrWlwIuu5z",
   "metadata": {
    "id": "mTqrWlwIuu5z"
   },
   "source": [
    "Ara, tenint una configuració optimitzada per al model, hauríem de poder entrenar-lo i obtenir un bon resultat."
   ]
  },
  {
   "cell_type": "code",
   "execution_count": 13,
   "id": "50c4d6e0-3e63-4f7c-89d4-dc50ec467300",
   "metadata": {
    "colab": {
     "base_uri": "https://localhost:8080/",
     "height": 91
    },
    "id": "50c4d6e0-3e63-4f7c-89d4-dc50ec467300",
    "outputId": "8d5b06e7-240c-4a09-8085-c93b6e355ffb"
   },
   "outputs": [
    {
     "data": {
      "text/html": [
       "<style>#sk-container-id-2 {color: black;}#sk-container-id-2 pre{padding: 0;}#sk-container-id-2 div.sk-toggleable {background-color: white;}#sk-container-id-2 label.sk-toggleable__label {cursor: pointer;display: block;width: 100%;margin-bottom: 0;padding: 0.3em;box-sizing: border-box;text-align: center;}#sk-container-id-2 label.sk-toggleable__label-arrow:before {content: \"▸\";float: left;margin-right: 0.25em;color: #696969;}#sk-container-id-2 label.sk-toggleable__label-arrow:hover:before {color: black;}#sk-container-id-2 div.sk-estimator:hover label.sk-toggleable__label-arrow:before {color: black;}#sk-container-id-2 div.sk-toggleable__content {max-height: 0;max-width: 0;overflow: hidden;text-align: left;background-color: #f0f8ff;}#sk-container-id-2 div.sk-toggleable__content pre {margin: 0.2em;color: black;border-radius: 0.25em;background-color: #f0f8ff;}#sk-container-id-2 input.sk-toggleable__control:checked~div.sk-toggleable__content {max-height: 200px;max-width: 100%;overflow: auto;}#sk-container-id-2 input.sk-toggleable__control:checked~label.sk-toggleable__label-arrow:before {content: \"▾\";}#sk-container-id-2 div.sk-estimator input.sk-toggleable__control:checked~label.sk-toggleable__label {background-color: #d4ebff;}#sk-container-id-2 div.sk-label input.sk-toggleable__control:checked~label.sk-toggleable__label {background-color: #d4ebff;}#sk-container-id-2 input.sk-hidden--visually {border: 0;clip: rect(1px 1px 1px 1px);clip: rect(1px, 1px, 1px, 1px);height: 1px;margin: -1px;overflow: hidden;padding: 0;position: absolute;width: 1px;}#sk-container-id-2 div.sk-estimator {font-family: monospace;background-color: #f0f8ff;border: 1px dotted black;border-radius: 0.25em;box-sizing: border-box;margin-bottom: 0.5em;}#sk-container-id-2 div.sk-estimator:hover {background-color: #d4ebff;}#sk-container-id-2 div.sk-parallel-item::after {content: \"\";width: 100%;border-bottom: 1px solid gray;flex-grow: 1;}#sk-container-id-2 div.sk-label:hover label.sk-toggleable__label {background-color: #d4ebff;}#sk-container-id-2 div.sk-serial::before {content: \"\";position: absolute;border-left: 1px solid gray;box-sizing: border-box;top: 0;bottom: 0;left: 50%;z-index: 0;}#sk-container-id-2 div.sk-serial {display: flex;flex-direction: column;align-items: center;background-color: white;padding-right: 0.2em;padding-left: 0.2em;position: relative;}#sk-container-id-2 div.sk-item {position: relative;z-index: 1;}#sk-container-id-2 div.sk-parallel {display: flex;align-items: stretch;justify-content: center;background-color: white;position: relative;}#sk-container-id-2 div.sk-item::before, #sk-container-id-2 div.sk-parallel-item::before {content: \"\";position: absolute;border-left: 1px solid gray;box-sizing: border-box;top: 0;bottom: 0;left: 50%;z-index: -1;}#sk-container-id-2 div.sk-parallel-item {display: flex;flex-direction: column;z-index: 1;position: relative;background-color: white;}#sk-container-id-2 div.sk-parallel-item:first-child::after {align-self: flex-end;width: 50%;}#sk-container-id-2 div.sk-parallel-item:last-child::after {align-self: flex-start;width: 50%;}#sk-container-id-2 div.sk-parallel-item:only-child::after {width: 0;}#sk-container-id-2 div.sk-dashed-wrapped {border: 1px dashed gray;margin: 0 0.4em 0.5em 0.4em;box-sizing: border-box;padding-bottom: 0.4em;background-color: white;}#sk-container-id-2 div.sk-label label {font-family: monospace;font-weight: bold;display: inline-block;line-height: 1.2em;}#sk-container-id-2 div.sk-label-container {text-align: center;}#sk-container-id-2 div.sk-container {/* jupyter's `normalize.less` sets `[hidden] { display: none; }` but bootstrap.min.css set `[hidden] { display: none !important; }` so we also need the `!important` here to be able to override the default hidden behavior on the sphinx rendered scikit-learn.org. See: https://github.com/scikit-learn/scikit-learn/issues/21755 */display: inline-block !important;position: relative;}#sk-container-id-2 div.sk-text-repr-fallback {display: none;}</style><div id=\"sk-container-id-2\" class=\"sk-top-container\"><div class=\"sk-text-repr-fallback\"><pre>SVC(C=100, random_state=33)</pre><b>In a Jupyter environment, please rerun this cell to show the HTML representation or trust the notebook. <br />On GitHub, the HTML representation is unable to render, please try loading this page with nbviewer.org.</b></div><div class=\"sk-container\" hidden><div class=\"sk-item\"><div class=\"sk-estimator sk-toggleable\"><input class=\"sk-toggleable__control sk-hidden--visually\" id=\"sk-estimator-id-4\" type=\"checkbox\" checked><label for=\"sk-estimator-id-4\" class=\"sk-toggleable__label sk-toggleable__label-arrow\">SVC</label><div class=\"sk-toggleable__content\"><pre>SVC(C=100, random_state=33)</pre></div></div></div></div></div>"
      ],
      "text/plain": [
       "SVC(C=100, random_state=33)"
      ]
     },
     "execution_count": 13,
     "metadata": {},
     "output_type": "execute_result"
    }
   ],
   "source": [
    "model = SVC(C=100, kernel='rbf', random_state=33)\n",
    "model.fit(x_train,y_train)"
   ]
  },
  {
   "cell_type": "markdown",
   "id": "vMpGDQPAvA8C",
   "metadata": {
    "id": "vMpGDQPAvA8C"
   },
   "source": [
    "## 5. Evaluating model"
   ]
  },
  {
   "cell_type": "markdown",
   "id": "0e1DitopvBk6",
   "metadata": {
    "id": "0e1DitopvBk6"
   },
   "source": [
    "Finalment, predirem les nostres dades definides per provar-les i les compararem amb els valors esperats reals. El nostre objectiu és obtenir un % de precisió d'encerts del nostre model."
   ]
  },
  {
   "cell_type": "code",
   "execution_count": 14,
   "id": "e48160ec-e65b-44ce-b4e4-b3180acaf4de",
   "metadata": {
    "id": "e48160ec-e65b-44ce-b4e4-b3180acaf4de"
   },
   "outputs": [],
   "source": [
    "y_meu = model.predict(x_test)"
   ]
  },
  {
   "cell_type": "code",
   "execution_count": 15,
   "id": "PpdpBkmWOyrV",
   "metadata": {
    "colab": {
     "base_uri": "https://localhost:8080/"
    },
    "id": "PpdpBkmWOyrV",
    "outputId": "1b1c128c-2aec-4844-9d86-89013739eedb"
   },
   "outputs": [
    {
     "name": "stdout",
     "output_type": "stream",
     "text": [
      "   Accuracy   : 0.3236180904522613\n"
     ]
    }
   ],
   "source": [
    "precision_meu = accuracy_score(y_test, y_meu)\n",
    "print(f\"   Accuracy   : {precision_meu}\")"
   ]
  }
 ],
 "metadata": {
  "accelerator": "GPU",
  "colab": {
   "gpuType": "T4",
   "provenance": []
  },
  "kernelspec": {
   "display_name": "Python 3 (ipykernel)",
   "language": "python",
   "name": "python3"
  },
  "language_info": {
   "codemirror_mode": {
    "name": "ipython",
    "version": 3
   },
   "file_extension": ".py",
   "mimetype": "text/x-python",
   "name": "python",
   "nbconvert_exporter": "python",
   "pygments_lexer": "ipython3",
   "version": "3.10.13"
  }
 },
 "nbformat": 4,
 "nbformat_minor": 5
}
